{
 "cells": [
  {
   "cell_type": "markdown",
   "metadata": {},
   "source": [
    "# Email Classification "
   ]
  },
  {
   "cell_type": "markdown",
   "metadata": {},
   "source": [
    "Description: In this ipynb it will be used different techniques in this classification task  we going to filter a email message as spam or ham."
   ]
  },
  {
   "cell_type": "code",
   "execution_count": 166,
   "metadata": {},
   "outputs": [],
   "source": [
    "#Import libraries\n",
    "import numpy as np \n",
    "import pandas as pd \n",
    "import nltk\n",
    "from nltk.corpus import stopwords\n",
    "import string\n",
    "import matplotlib.pyplot as plt\n",
    "import seaborn as sns\n",
    "from sklearn.metrics import classification_report,confusion_matrix, accuracy_score\n",
    "from sklearn import tree\n",
    "from sklearn.tree import DecisionTreeClassifier\n",
    "%matplotlib inline"
   ]
  },
  {
   "cell_type": "code",
   "execution_count": 54,
   "metadata": {
    "scrolled": true
   },
   "outputs": [
    {
     "data": {
      "text/html": [
       "<div>\n",
       "<style scoped>\n",
       "    .dataframe tbody tr th:only-of-type {\n",
       "        vertical-align: middle;\n",
       "    }\n",
       "\n",
       "    .dataframe tbody tr th {\n",
       "        vertical-align: top;\n",
       "    }\n",
       "\n",
       "    .dataframe thead th {\n",
       "        text-align: right;\n",
       "    }\n",
       "</style>\n",
       "<table border=\"1\" class=\"dataframe\">\n",
       "  <thead>\n",
       "    <tr style=\"text-align: right;\">\n",
       "      <th></th>\n",
       "      <th>ï»¿\"Subject\"</th>\n",
       "      <th>Body</th>\n",
       "      <th>From: (Name)</th>\n",
       "      <th>From: (Address)</th>\n",
       "      <th>From: (Type)</th>\n",
       "      <th>To: (Name)</th>\n",
       "      <th>To: (Address)</th>\n",
       "      <th>To: (Type)</th>\n",
       "      <th>CC: (Name)</th>\n",
       "      <th>CC: (Address)</th>\n",
       "      <th>CC: (Type)</th>\n",
       "      <th>BCC: (Name)</th>\n",
       "      <th>BCC: (Address)</th>\n",
       "      <th>BCC: (Type)</th>\n",
       "      <th>Billing Information</th>\n",
       "      <th>Categories</th>\n",
       "      <th>Importance</th>\n",
       "      <th>Mileage</th>\n",
       "      <th>Sensitivity</th>\n",
       "    </tr>\n",
       "  </thead>\n",
       "  <tbody>\n",
       "    <tr>\n",
       "      <th>0</th>\n",
       "      <td>Westminster Savings Credit Union is looking fo...</td>\n",
       "      <td>Roberta Bukowski, Westminster Savings Credit U...</td>\n",
       "      <td>LinkedIn</td>\n",
       "      <td>jobs-listings@linkedin.com</td>\n",
       "      <td>SMTP</td>\n",
       "      <td>Roberta Bukowski</td>\n",
       "      <td>rfonsecacarvalho@hotmail.com</td>\n",
       "      <td>SMTP</td>\n",
       "      <td>NaN</td>\n",
       "      <td>NaN</td>\n",
       "      <td>NaN</td>\n",
       "      <td>NaN</td>\n",
       "      <td>NaN</td>\n",
       "      <td>NaN</td>\n",
       "      <td>NaN</td>\n",
       "      <td>NaN</td>\n",
       "      <td>Normal</td>\n",
       "      <td>NaN</td>\n",
       "      <td>Normal</td>\n",
       "    </tr>\n",
       "    <tr>\n",
       "      <th>1</th>\n",
       "      <td>Dia das CrianÃ§as com atÃ© 20%OFF</td>\n",
       "      <td>Presentes de Sophie, Quasar Next, Boti Baby e ...</td>\n",
       "      <td>Clube Viva O BoticÃ¡rio ð</td>\n",
       "      <td>noreply@fidelidade.oboticario.com.br</td>\n",
       "      <td>SMTP</td>\n",
       "      <td>rfonsecacarvalho@hotmail.com</td>\n",
       "      <td>rfonsecacarvalho@hotmail.com</td>\n",
       "      <td>SMTP</td>\n",
       "      <td>NaN</td>\n",
       "      <td>NaN</td>\n",
       "      <td>NaN</td>\n",
       "      <td>NaN</td>\n",
       "      <td>NaN</td>\n",
       "      <td>NaN</td>\n",
       "      <td>NaN</td>\n",
       "      <td>NaN</td>\n",
       "      <td>Normal</td>\n",
       "      <td>NaN</td>\n",
       "      <td>Normal</td>\n",
       "    </tr>\n",
       "    <tr>\n",
       "      <th>2</th>\n",
       "      <td>A espera acabou!</td>\n",
       "      <td>Casa Riachuelo chegou no Botafogo Praia Shoppi...</td>\n",
       "      <td>Botafogo Praia Shopping</td>\n",
       "      <td>botafogopraia@mail.botafogopraiashopping.com.br</td>\n",
       "      <td>SMTP</td>\n",
       "      <td>rfonsecacarvalho@hotmail.com</td>\n",
       "      <td>rfonsecacarvalho@hotmail.com</td>\n",
       "      <td>SMTP</td>\n",
       "      <td>NaN</td>\n",
       "      <td>NaN</td>\n",
       "      <td>NaN</td>\n",
       "      <td>NaN</td>\n",
       "      <td>NaN</td>\n",
       "      <td>NaN</td>\n",
       "      <td>NaN</td>\n",
       "      <td>NaN</td>\n",
       "      <td>Normal</td>\n",
       "      <td>NaN</td>\n",
       "      <td>Normal</td>\n",
       "    </tr>\n",
       "    <tr>\n",
       "      <th>3</th>\n",
       "      <td>2 new jobs for 'treasurer'</td>\n",
       "      <td>View jobs in Greater Vancouver Metropolitan Ar...</td>\n",
       "      <td>LinkedIn Job Alerts</td>\n",
       "      <td>jobalerts-noreply@linkedin.com</td>\n",
       "      <td>SMTP</td>\n",
       "      <td>Roberta Bukowski</td>\n",
       "      <td>rfonsecacarvalho@hotmail.com</td>\n",
       "      <td>SMTP</td>\n",
       "      <td>NaN</td>\n",
       "      <td>NaN</td>\n",
       "      <td>NaN</td>\n",
       "      <td>NaN</td>\n",
       "      <td>NaN</td>\n",
       "      <td>NaN</td>\n",
       "      <td>NaN</td>\n",
       "      <td>NaN</td>\n",
       "      <td>Normal</td>\n",
       "      <td>NaN</td>\n",
       "      <td>Normal</td>\n",
       "    </tr>\n",
       "    <tr>\n",
       "      <th>4</th>\n",
       "      <td>Roberta, please add me to your LinkedIn network</td>\n",
       "      <td>Hi Roberta, I'd like to join your LinkedIn net...</td>\n",
       "      <td>Pankaj Gaur</td>\n",
       "      <td>invitations@linkedin.com</td>\n",
       "      <td>SMTP</td>\n",
       "      <td>Roberta Bukowski</td>\n",
       "      <td>rfonsecacarvalho@hotmail.com</td>\n",
       "      <td>SMTP</td>\n",
       "      <td>NaN</td>\n",
       "      <td>NaN</td>\n",
       "      <td>NaN</td>\n",
       "      <td>NaN</td>\n",
       "      <td>NaN</td>\n",
       "      <td>NaN</td>\n",
       "      <td>NaN</td>\n",
       "      <td>NaN</td>\n",
       "      <td>Normal</td>\n",
       "      <td>NaN</td>\n",
       "      <td>Normal</td>\n",
       "    </tr>\n",
       "  </tbody>\n",
       "</table>\n",
       "</div>"
      ],
      "text/plain": [
       "                                        ï»¿\"Subject\"  \\\n",
       "0  Westminster Savings Credit Union is looking fo...   \n",
       "1                  Dia das CrianÃ§as com atÃ© 20%OFF   \n",
       "2                                   A espera acabou!   \n",
       "3                         2 new jobs for 'treasurer'   \n",
       "4    Roberta, please add me to your LinkedIn network   \n",
       "\n",
       "                                                Body  \\\n",
       "0  Roberta Bukowski, Westminster Savings Credit U...   \n",
       "1  Presentes de Sophie, Quasar Next, Boti Baby e ...   \n",
       "2  Casa Riachuelo chegou no Botafogo Praia Shoppi...   \n",
       "3  View jobs in Greater Vancouver Metropolitan Ar...   \n",
       "4  Hi Roberta, I'd like to join your LinkedIn net...   \n",
       "\n",
       "                   From: (Name)  \\\n",
       "0                      LinkedIn   \n",
       "1  Clube Viva O BoticÃ¡rio ð   \n",
       "2       Botafogo Praia Shopping   \n",
       "3           LinkedIn Job Alerts   \n",
       "4                   Pankaj Gaur   \n",
       "\n",
       "                                   From: (Address) From: (Type)  \\\n",
       "0                       jobs-listings@linkedin.com         SMTP   \n",
       "1             noreply@fidelidade.oboticario.com.br         SMTP   \n",
       "2  botafogopraia@mail.botafogopraiashopping.com.br         SMTP   \n",
       "3                   jobalerts-noreply@linkedin.com         SMTP   \n",
       "4                         invitations@linkedin.com         SMTP   \n",
       "\n",
       "                     To: (Name)                 To: (Address) To: (Type)  \\\n",
       "0              Roberta Bukowski  rfonsecacarvalho@hotmail.com       SMTP   \n",
       "1  rfonsecacarvalho@hotmail.com  rfonsecacarvalho@hotmail.com       SMTP   \n",
       "2  rfonsecacarvalho@hotmail.com  rfonsecacarvalho@hotmail.com       SMTP   \n",
       "3              Roberta Bukowski  rfonsecacarvalho@hotmail.com       SMTP   \n",
       "4              Roberta Bukowski  rfonsecacarvalho@hotmail.com       SMTP   \n",
       "\n",
       "   CC: (Name)  CC: (Address)  CC: (Type)  BCC: (Name)  BCC: (Address)  \\\n",
       "0         NaN            NaN         NaN          NaN             NaN   \n",
       "1         NaN            NaN         NaN          NaN             NaN   \n",
       "2         NaN            NaN         NaN          NaN             NaN   \n",
       "3         NaN            NaN         NaN          NaN             NaN   \n",
       "4         NaN            NaN         NaN          NaN             NaN   \n",
       "\n",
       "   BCC: (Type)  Billing Information  Categories Importance  Mileage  \\\n",
       "0          NaN                  NaN         NaN     Normal      NaN   \n",
       "1          NaN                  NaN         NaN     Normal      NaN   \n",
       "2          NaN                  NaN         NaN     Normal      NaN   \n",
       "3          NaN                  NaN         NaN     Normal      NaN   \n",
       "4          NaN                  NaN         NaN     Normal      NaN   \n",
       "\n",
       "  Sensitivity  \n",
       "0      Normal  \n",
       "1      Normal  \n",
       "2      Normal  \n",
       "3      Normal  \n",
       "4      Normal  "
      ]
     },
     "execution_count": 54,
     "metadata": {},
     "output_type": "execute_result"
    }
   ],
   "source": [
    "#Load dataset\n",
    "inbox_df = pd.read_csv(\"Data/ham.csv\", encoding='latin-1')\n",
    "inbox_df.head()\n"
   ]
  },
  {
   "cell_type": "code",
   "execution_count": 55,
   "metadata": {},
   "outputs": [
    {
     "data": {
      "text/html": [
       "<div>\n",
       "<style scoped>\n",
       "    .dataframe tbody tr th:only-of-type {\n",
       "        vertical-align: middle;\n",
       "    }\n",
       "\n",
       "    .dataframe tbody tr th {\n",
       "        vertical-align: top;\n",
       "    }\n",
       "\n",
       "    .dataframe thead th {\n",
       "        text-align: right;\n",
       "    }\n",
       "</style>\n",
       "<table border=\"1\" class=\"dataframe\">\n",
       "  <thead>\n",
       "    <tr style=\"text-align: right;\">\n",
       "      <th></th>\n",
       "      <th>ï»¿\"Subject\"</th>\n",
       "      <th>Body</th>\n",
       "      <th>From: (Name)</th>\n",
       "      <th>From: (Address)</th>\n",
       "      <th>From: (Type)</th>\n",
       "      <th>To: (Name)</th>\n",
       "      <th>To: (Address)</th>\n",
       "      <th>To: (Type)</th>\n",
       "      <th>CC: (Name)</th>\n",
       "      <th>CC: (Address)</th>\n",
       "      <th>CC: (Type)</th>\n",
       "      <th>BCC: (Name)</th>\n",
       "      <th>BCC: (Address)</th>\n",
       "      <th>BCC: (Type)</th>\n",
       "      <th>Billing Information</th>\n",
       "      <th>Categories</th>\n",
       "      <th>Importance</th>\n",
       "      <th>Mileage</th>\n",
       "      <th>Sensitivity</th>\n",
       "    </tr>\n",
       "  </thead>\n",
       "  <tbody>\n",
       "    <tr>\n",
       "      <th>0</th>\n",
       "      <td>Temos um presente para vocÃª! ð ð¥³</td>\n",
       "      <td>Aproveite hoje mesmo e troque seus pontos por ...</td>\n",
       "      <td>Clube Viva O BoticÃ¡rio ð</td>\n",
       "      <td>noreply@fidelidade.oboticario.com.br</td>\n",
       "      <td>SMTP</td>\n",
       "      <td>rfonsecacarvalho@hotmail.com</td>\n",
       "      <td>rfonsecacarvalho@hotmail.com</td>\n",
       "      <td>SMTP</td>\n",
       "      <td>NaN</td>\n",
       "      <td>NaN</td>\n",
       "      <td>NaN</td>\n",
       "      <td>NaN</td>\n",
       "      <td>NaN</td>\n",
       "      <td>NaN</td>\n",
       "      <td>NaN</td>\n",
       "      <td>NaN</td>\n",
       "      <td>Normal</td>\n",
       "      <td>NaN</td>\n",
       "      <td>Normal</td>\n",
       "    </tr>\n",
       "    <tr>\n",
       "      <th>1</th>\n",
       "      <td>Confira as condiÃ§Ãµes para financiar seu imÃ³...</td>\n",
       "      <td>E-mail classificado como #EXTERNO.CONFIDENCIAL...</td>\n",
       "      <td>ag3072@caixa.gov.br</td>\n",
       "      <td>ag3072@caixa.gov.br</td>\n",
       "      <td>SMTP</td>\n",
       "      <td>NaN</td>\n",
       "      <td>NaN</td>\n",
       "      <td>NaN</td>\n",
       "      <td>NaN</td>\n",
       "      <td>NaN</td>\n",
       "      <td>NaN</td>\n",
       "      <td>NaN</td>\n",
       "      <td>NaN</td>\n",
       "      <td>NaN</td>\n",
       "      <td>NaN</td>\n",
       "      <td>NaN</td>\n",
       "      <td>Normal</td>\n",
       "      <td>NaN</td>\n",
       "      <td>Normal</td>\n",
       "    </tr>\n",
       "    <tr>\n",
       "      <th>2</th>\n",
       "      <td>Live no app com Preta Gil!</td>\n",
       "      <td>Ã HOJE, sÃ³ no app! NÃ£o perca!\\r\\n &lt;http://c...</td>\n",
       "      <td>Clube Viva O BoticÃ¡rio ð</td>\n",
       "      <td>noreply@fidelidade.oboticario.com.br</td>\n",
       "      <td>SMTP</td>\n",
       "      <td>rfonsecacarvalho@hotmail.com</td>\n",
       "      <td>rfonsecacarvalho@hotmail.com</td>\n",
       "      <td>SMTP</td>\n",
       "      <td>NaN</td>\n",
       "      <td>NaN</td>\n",
       "      <td>NaN</td>\n",
       "      <td>NaN</td>\n",
       "      <td>NaN</td>\n",
       "      <td>NaN</td>\n",
       "      <td>NaN</td>\n",
       "      <td>NaN</td>\n",
       "      <td>Normal</td>\n",
       "      <td>NaN</td>\n",
       "      <td>Normal</td>\n",
       "    </tr>\n",
       "    <tr>\n",
       "      <th>3</th>\n",
       "      <td>Reminder: Please confirm your signature</td>\n",
       "      <td>&lt;https://click.e.change.org/q/EBYy30tbdULpXkj...</td>\n",
       "      <td>Change.org</td>\n",
       "      <td>change@a.change.org</td>\n",
       "      <td>SMTP</td>\n",
       "      <td>Roberta Carvalho</td>\n",
       "      <td>rfonsecacarvalho@hotmail.com</td>\n",
       "      <td>SMTP</td>\n",
       "      <td>NaN</td>\n",
       "      <td>NaN</td>\n",
       "      <td>NaN</td>\n",
       "      <td>NaN</td>\n",
       "      <td>NaN</td>\n",
       "      <td>NaN</td>\n",
       "      <td>NaN</td>\n",
       "      <td>NaN</td>\n",
       "      <td>Normal</td>\n",
       "      <td>NaN</td>\n",
       "      <td>Normal</td>\n",
       "    </tr>\n",
       "    <tr>\n",
       "      <th>4</th>\n",
       "      <td>Ãltimos dia de BotiPromo! ð±</td>\n",
       "      <td>Corre aproveitar atÃ© 50%OFF em mais de 300 pr...</td>\n",
       "      <td>Clube Viva O BoticÃ¡rio ð</td>\n",
       "      <td>noreply@fidelidade.oboticario.com.br</td>\n",
       "      <td>SMTP</td>\n",
       "      <td>rfonsecacarvalho@hotmail.com</td>\n",
       "      <td>rfonsecacarvalho@hotmail.com</td>\n",
       "      <td>SMTP</td>\n",
       "      <td>NaN</td>\n",
       "      <td>NaN</td>\n",
       "      <td>NaN</td>\n",
       "      <td>NaN</td>\n",
       "      <td>NaN</td>\n",
       "      <td>NaN</td>\n",
       "      <td>NaN</td>\n",
       "      <td>NaN</td>\n",
       "      <td>Normal</td>\n",
       "      <td>NaN</td>\n",
       "      <td>Normal</td>\n",
       "    </tr>\n",
       "  </tbody>\n",
       "</table>\n",
       "</div>"
      ],
      "text/plain": [
       "                                        ï»¿\"Subject\"  \\\n",
       "0            Temos um presente para vocÃª! ð ð¥³   \n",
       "1  Confira as condiÃ§Ãµes para financiar seu imÃ³...   \n",
       "2                         Live no app com Preta Gil!   \n",
       "3            Reminder: Please confirm your signature   \n",
       "4                    Ãltimos dia de BotiPromo! ð±   \n",
       "\n",
       "                                                Body  \\\n",
       "0  Aproveite hoje mesmo e troque seus pontos por ...   \n",
       "1  E-mail classificado como #EXTERNO.CONFIDENCIAL...   \n",
       "2  Ã HOJE, sÃ³ no app! NÃ£o perca!\\r\\n <http://c...   \n",
       "3   <https://click.e.change.org/q/EBYy30tbdULpXkj...   \n",
       "4  Corre aproveitar atÃ© 50%OFF em mais de 300 pr...   \n",
       "\n",
       "                   From: (Name)                       From: (Address)  \\\n",
       "0  Clube Viva O BoticÃ¡rio ð  noreply@fidelidade.oboticario.com.br   \n",
       "1           ag3072@caixa.gov.br                   ag3072@caixa.gov.br   \n",
       "2  Clube Viva O BoticÃ¡rio ð  noreply@fidelidade.oboticario.com.br   \n",
       "3                    Change.org                   change@a.change.org   \n",
       "4  Clube Viva O BoticÃ¡rio ð  noreply@fidelidade.oboticario.com.br   \n",
       "\n",
       "  From: (Type)                    To: (Name)                 To: (Address)  \\\n",
       "0         SMTP  rfonsecacarvalho@hotmail.com  rfonsecacarvalho@hotmail.com   \n",
       "1         SMTP                           NaN                           NaN   \n",
       "2         SMTP  rfonsecacarvalho@hotmail.com  rfonsecacarvalho@hotmail.com   \n",
       "3         SMTP              Roberta Carvalho  rfonsecacarvalho@hotmail.com   \n",
       "4         SMTP  rfonsecacarvalho@hotmail.com  rfonsecacarvalho@hotmail.com   \n",
       "\n",
       "  To: (Type)  CC: (Name)  CC: (Address)  CC: (Type)  BCC: (Name)  \\\n",
       "0       SMTP         NaN            NaN         NaN          NaN   \n",
       "1        NaN         NaN            NaN         NaN          NaN   \n",
       "2       SMTP         NaN            NaN         NaN          NaN   \n",
       "3       SMTP         NaN            NaN         NaN          NaN   \n",
       "4       SMTP         NaN            NaN         NaN          NaN   \n",
       "\n",
       "   BCC: (Address)  BCC: (Type)  Billing Information  Categories Importance  \\\n",
       "0             NaN          NaN                  NaN         NaN     Normal   \n",
       "1             NaN          NaN                  NaN         NaN     Normal   \n",
       "2             NaN          NaN                  NaN         NaN     Normal   \n",
       "3             NaN          NaN                  NaN         NaN     Normal   \n",
       "4             NaN          NaN                  NaN         NaN     Normal   \n",
       "\n",
       "   Mileage Sensitivity  \n",
       "0      NaN      Normal  \n",
       "1      NaN      Normal  \n",
       "2      NaN      Normal  \n",
       "3      NaN      Normal  \n",
       "4      NaN      Normal  "
      ]
     },
     "execution_count": 55,
     "metadata": {},
     "output_type": "execute_result"
    }
   ],
   "source": [
    "#Load dataset\n",
    "spam_df = pd.read_csv(\"Data/spam.csv\", encoding='latin-1')\n",
    "spam_df.head()"
   ]
  },
  {
   "cell_type": "code",
   "execution_count": 56,
   "metadata": {},
   "outputs": [
    {
     "name": "stdout",
     "output_type": "stream",
     "text": [
      "(1263, 19)\n",
      "(177, 19)\n"
     ]
    }
   ],
   "source": [
    "#Dimensions of the two DataFrames:\n",
    "print(inbox_df.shape)\n",
    "print(spam_df.shape)"
   ]
  },
  {
   "cell_type": "code",
   "execution_count": 57,
   "metadata": {},
   "outputs": [
    {
     "name": "stdout",
     "output_type": "stream",
     "text": [
      "Index(['ï»¿\"Subject\"', 'Body', 'From: (Name)', 'From: (Address)',\n",
      "       'From: (Type)', 'To: (Name)', 'To: (Address)', 'To: (Type)',\n",
      "       'CC: (Name)', 'CC: (Address)', 'CC: (Type)', 'BCC: (Name)',\n",
      "       'BCC: (Address)', 'BCC: (Type)', 'Billing Information', 'Categories',\n",
      "       'Importance', 'Mileage', 'Sensitivity'],\n",
      "      dtype='object')\n",
      "Index(['ï»¿\"Subject\"', 'Body', 'From: (Name)', 'From: (Address)',\n",
      "       'From: (Type)', 'To: (Name)', 'To: (Address)', 'To: (Type)',\n",
      "       'CC: (Name)', 'CC: (Address)', 'CC: (Type)', 'BCC: (Name)',\n",
      "       'BCC: (Address)', 'BCC: (Type)', 'Billing Information', 'Categories',\n",
      "       'Importance', 'Mileage', 'Sensitivity'],\n",
      "      dtype='object')\n"
     ]
    }
   ],
   "source": [
    "#Column Names\n",
    "print(inbox_df.columns)\n",
    "print(spam_df.columns)"
   ]
  },
  {
   "cell_type": "code",
   "execution_count": 58,
   "metadata": {},
   "outputs": [],
   "source": [
    "#Join the columns Subject and Body for Both datasets\n",
    "inbox_df['text'] = inbox_df['ï»¿\"Subject\"'].str.cat(inbox_df['Body'],sep=\" \")\n",
    "spam_df['text']= spam_df['ï»¿\"Subject\"'].str.cat(spam_df['Body'],sep=\" \")"
   ]
  },
  {
   "cell_type": "code",
   "execution_count": 59,
   "metadata": {},
   "outputs": [],
   "source": [
    "#Creating Spam column\n",
    "inbox_df['category'] = 'ham'\n",
    "spam_df['category'] = 'spam'"
   ]
  },
  {
   "cell_type": "code",
   "execution_count": 60,
   "metadata": {},
   "outputs": [
    {
     "data": {
      "text/html": [
       "<div>\n",
       "<style scoped>\n",
       "    .dataframe tbody tr th:only-of-type {\n",
       "        vertical-align: middle;\n",
       "    }\n",
       "\n",
       "    .dataframe tbody tr th {\n",
       "        vertical-align: top;\n",
       "    }\n",
       "\n",
       "    .dataframe thead th {\n",
       "        text-align: right;\n",
       "    }\n",
       "</style>\n",
       "<table border=\"1\" class=\"dataframe\">\n",
       "  <thead>\n",
       "    <tr style=\"text-align: right;\">\n",
       "      <th></th>\n",
       "      <th>ï»¿\"Subject\"</th>\n",
       "      <th>Body</th>\n",
       "      <th>From: (Name)</th>\n",
       "      <th>From: (Address)</th>\n",
       "      <th>From: (Type)</th>\n",
       "      <th>To: (Name)</th>\n",
       "      <th>To: (Address)</th>\n",
       "      <th>To: (Type)</th>\n",
       "      <th>CC: (Name)</th>\n",
       "      <th>CC: (Address)</th>\n",
       "      <th>...</th>\n",
       "      <th>BCC: (Name)</th>\n",
       "      <th>BCC: (Address)</th>\n",
       "      <th>BCC: (Type)</th>\n",
       "      <th>Billing Information</th>\n",
       "      <th>Categories</th>\n",
       "      <th>Importance</th>\n",
       "      <th>Mileage</th>\n",
       "      <th>Sensitivity</th>\n",
       "      <th>text</th>\n",
       "      <th>category</th>\n",
       "    </tr>\n",
       "  </thead>\n",
       "  <tbody>\n",
       "    <tr>\n",
       "      <th>0</th>\n",
       "      <td>Westminster Savings Credit Union is looking fo...</td>\n",
       "      <td>Roberta Bukowski, Westminster Savings Credit U...</td>\n",
       "      <td>LinkedIn</td>\n",
       "      <td>jobs-listings@linkedin.com</td>\n",
       "      <td>SMTP</td>\n",
       "      <td>Roberta Bukowski</td>\n",
       "      <td>rfonsecacarvalho@hotmail.com</td>\n",
       "      <td>SMTP</td>\n",
       "      <td>NaN</td>\n",
       "      <td>NaN</td>\n",
       "      <td>...</td>\n",
       "      <td>NaN</td>\n",
       "      <td>NaN</td>\n",
       "      <td>NaN</td>\n",
       "      <td>NaN</td>\n",
       "      <td>NaN</td>\n",
       "      <td>Normal</td>\n",
       "      <td>NaN</td>\n",
       "      <td>Normal</td>\n",
       "      <td>Westminster Savings Credit Union is looking fo...</td>\n",
       "      <td>ham</td>\n",
       "    </tr>\n",
       "    <tr>\n",
       "      <th>1</th>\n",
       "      <td>Dia das CrianÃ§as com atÃ© 20%OFF</td>\n",
       "      <td>Presentes de Sophie, Quasar Next, Boti Baby e ...</td>\n",
       "      <td>Clube Viva O BoticÃ¡rio ð</td>\n",
       "      <td>noreply@fidelidade.oboticario.com.br</td>\n",
       "      <td>SMTP</td>\n",
       "      <td>rfonsecacarvalho@hotmail.com</td>\n",
       "      <td>rfonsecacarvalho@hotmail.com</td>\n",
       "      <td>SMTP</td>\n",
       "      <td>NaN</td>\n",
       "      <td>NaN</td>\n",
       "      <td>...</td>\n",
       "      <td>NaN</td>\n",
       "      <td>NaN</td>\n",
       "      <td>NaN</td>\n",
       "      <td>NaN</td>\n",
       "      <td>NaN</td>\n",
       "      <td>Normal</td>\n",
       "      <td>NaN</td>\n",
       "      <td>Normal</td>\n",
       "      <td>Dia das CrianÃ§as com atÃ© 20%OFF Presentes de...</td>\n",
       "      <td>ham</td>\n",
       "    </tr>\n",
       "    <tr>\n",
       "      <th>2</th>\n",
       "      <td>A espera acabou!</td>\n",
       "      <td>Casa Riachuelo chegou no Botafogo Praia Shoppi...</td>\n",
       "      <td>Botafogo Praia Shopping</td>\n",
       "      <td>botafogopraia@mail.botafogopraiashopping.com.br</td>\n",
       "      <td>SMTP</td>\n",
       "      <td>rfonsecacarvalho@hotmail.com</td>\n",
       "      <td>rfonsecacarvalho@hotmail.com</td>\n",
       "      <td>SMTP</td>\n",
       "      <td>NaN</td>\n",
       "      <td>NaN</td>\n",
       "      <td>...</td>\n",
       "      <td>NaN</td>\n",
       "      <td>NaN</td>\n",
       "      <td>NaN</td>\n",
       "      <td>NaN</td>\n",
       "      <td>NaN</td>\n",
       "      <td>Normal</td>\n",
       "      <td>NaN</td>\n",
       "      <td>Normal</td>\n",
       "      <td>A espera acabou! Casa Riachuelo chegou no Bota...</td>\n",
       "      <td>ham</td>\n",
       "    </tr>\n",
       "    <tr>\n",
       "      <th>3</th>\n",
       "      <td>2 new jobs for 'treasurer'</td>\n",
       "      <td>View jobs in Greater Vancouver Metropolitan Ar...</td>\n",
       "      <td>LinkedIn Job Alerts</td>\n",
       "      <td>jobalerts-noreply@linkedin.com</td>\n",
       "      <td>SMTP</td>\n",
       "      <td>Roberta Bukowski</td>\n",
       "      <td>rfonsecacarvalho@hotmail.com</td>\n",
       "      <td>SMTP</td>\n",
       "      <td>NaN</td>\n",
       "      <td>NaN</td>\n",
       "      <td>...</td>\n",
       "      <td>NaN</td>\n",
       "      <td>NaN</td>\n",
       "      <td>NaN</td>\n",
       "      <td>NaN</td>\n",
       "      <td>NaN</td>\n",
       "      <td>Normal</td>\n",
       "      <td>NaN</td>\n",
       "      <td>Normal</td>\n",
       "      <td>2 new jobs for 'treasurer' View jobs in Greate...</td>\n",
       "      <td>ham</td>\n",
       "    </tr>\n",
       "    <tr>\n",
       "      <th>4</th>\n",
       "      <td>Roberta, please add me to your LinkedIn network</td>\n",
       "      <td>Hi Roberta, I'd like to join your LinkedIn net...</td>\n",
       "      <td>Pankaj Gaur</td>\n",
       "      <td>invitations@linkedin.com</td>\n",
       "      <td>SMTP</td>\n",
       "      <td>Roberta Bukowski</td>\n",
       "      <td>rfonsecacarvalho@hotmail.com</td>\n",
       "      <td>SMTP</td>\n",
       "      <td>NaN</td>\n",
       "      <td>NaN</td>\n",
       "      <td>...</td>\n",
       "      <td>NaN</td>\n",
       "      <td>NaN</td>\n",
       "      <td>NaN</td>\n",
       "      <td>NaN</td>\n",
       "      <td>NaN</td>\n",
       "      <td>Normal</td>\n",
       "      <td>NaN</td>\n",
       "      <td>Normal</td>\n",
       "      <td>Roberta, please add me to your LinkedIn networ...</td>\n",
       "      <td>ham</td>\n",
       "    </tr>\n",
       "  </tbody>\n",
       "</table>\n",
       "<p>5 rows × 21 columns</p>\n",
       "</div>"
      ],
      "text/plain": [
       "                                        ï»¿\"Subject\"  \\\n",
       "0  Westminster Savings Credit Union is looking fo...   \n",
       "1                  Dia das CrianÃ§as com atÃ© 20%OFF   \n",
       "2                                   A espera acabou!   \n",
       "3                         2 new jobs for 'treasurer'   \n",
       "4    Roberta, please add me to your LinkedIn network   \n",
       "\n",
       "                                                Body  \\\n",
       "0  Roberta Bukowski, Westminster Savings Credit U...   \n",
       "1  Presentes de Sophie, Quasar Next, Boti Baby e ...   \n",
       "2  Casa Riachuelo chegou no Botafogo Praia Shoppi...   \n",
       "3  View jobs in Greater Vancouver Metropolitan Ar...   \n",
       "4  Hi Roberta, I'd like to join your LinkedIn net...   \n",
       "\n",
       "                   From: (Name)  \\\n",
       "0                      LinkedIn   \n",
       "1  Clube Viva O BoticÃ¡rio ð   \n",
       "2       Botafogo Praia Shopping   \n",
       "3           LinkedIn Job Alerts   \n",
       "4                   Pankaj Gaur   \n",
       "\n",
       "                                   From: (Address) From: (Type)  \\\n",
       "0                       jobs-listings@linkedin.com         SMTP   \n",
       "1             noreply@fidelidade.oboticario.com.br         SMTP   \n",
       "2  botafogopraia@mail.botafogopraiashopping.com.br         SMTP   \n",
       "3                   jobalerts-noreply@linkedin.com         SMTP   \n",
       "4                         invitations@linkedin.com         SMTP   \n",
       "\n",
       "                     To: (Name)                 To: (Address) To: (Type)  \\\n",
       "0              Roberta Bukowski  rfonsecacarvalho@hotmail.com       SMTP   \n",
       "1  rfonsecacarvalho@hotmail.com  rfonsecacarvalho@hotmail.com       SMTP   \n",
       "2  rfonsecacarvalho@hotmail.com  rfonsecacarvalho@hotmail.com       SMTP   \n",
       "3              Roberta Bukowski  rfonsecacarvalho@hotmail.com       SMTP   \n",
       "4              Roberta Bukowski  rfonsecacarvalho@hotmail.com       SMTP   \n",
       "\n",
       "   CC: (Name)  CC: (Address)  ...  BCC: (Name)  BCC: (Address)  BCC: (Type)  \\\n",
       "0         NaN            NaN  ...          NaN             NaN          NaN   \n",
       "1         NaN            NaN  ...          NaN             NaN          NaN   \n",
       "2         NaN            NaN  ...          NaN             NaN          NaN   \n",
       "3         NaN            NaN  ...          NaN             NaN          NaN   \n",
       "4         NaN            NaN  ...          NaN             NaN          NaN   \n",
       "\n",
       "   Billing Information  Categories  Importance Mileage  Sensitivity  \\\n",
       "0                  NaN         NaN      Normal     NaN       Normal   \n",
       "1                  NaN         NaN      Normal     NaN       Normal   \n",
       "2                  NaN         NaN      Normal     NaN       Normal   \n",
       "3                  NaN         NaN      Normal     NaN       Normal   \n",
       "4                  NaN         NaN      Normal     NaN       Normal   \n",
       "\n",
       "                                                text category  \n",
       "0  Westminster Savings Credit Union is looking fo...      ham  \n",
       "1  Dia das CrianÃ§as com atÃ© 20%OFF Presentes de...      ham  \n",
       "2  A espera acabou! Casa Riachuelo chegou no Bota...      ham  \n",
       "3  2 new jobs for 'treasurer' View jobs in Greate...      ham  \n",
       "4  Roberta, please add me to your LinkedIn networ...      ham  \n",
       "\n",
       "[5 rows x 21 columns]"
      ]
     },
     "execution_count": 60,
     "metadata": {},
     "output_type": "execute_result"
    }
   ],
   "source": [
    "#Concatenating both datasets in one\n",
    "emails = pd.concat([inbox_df, spam_df])\n",
    "emails.head()"
   ]
  },
  {
   "cell_type": "code",
   "execution_count": 61,
   "metadata": {},
   "outputs": [
    {
     "name": "stdout",
     "output_type": "stream",
     "text": [
      "(1440, 21)\n"
     ]
    }
   ],
   "source": [
    "#Dimensions of new Dataframe\n",
    "print(emails.shape)"
   ]
  },
  {
   "cell_type": "code",
   "execution_count": 62,
   "metadata": {},
   "outputs": [
    {
     "data": {
      "text/plain": [
       "Index(['ï»¿\"Subject\"', 'Body', 'From: (Name)', 'From: (Address)',\n",
       "       'From: (Type)', 'To: (Name)', 'To: (Address)', 'To: (Type)',\n",
       "       'CC: (Name)', 'CC: (Address)', 'CC: (Type)', 'BCC: (Name)',\n",
       "       'BCC: (Address)', 'BCC: (Type)', 'Billing Information', 'Categories',\n",
       "       'Importance', 'Mileage', 'Sensitivity', 'text', 'category'],\n",
       "      dtype='object')"
      ]
     },
     "execution_count": 62,
     "metadata": {},
     "output_type": "execute_result"
    }
   ],
   "source": [
    "#Get the column names\n",
    "emails.columns"
   ]
  },
  {
   "cell_type": "code",
   "execution_count": 63,
   "metadata": {},
   "outputs": [],
   "source": [
    "# Drop unecessary columns\n",
    "emails.drop(['ï»¿\"Subject\"', 'Body','From: (Name)', 'From: (Address)',\n",
    "       'From: (Type)', 'To: (Name)', 'To: (Address)', 'To: (Type)',\n",
    "       'CC: (Name)', 'CC: (Address)', 'CC: (Type)', 'BCC: (Name)',\n",
    "       'BCC: (Address)', 'BCC: (Type)', 'Billing Information', 'Categories',\n",
    "       'Importance', 'Mileage', 'Sensitivity'],\n",
    "            axis='columns', inplace=True)"
   ]
  },
  {
   "cell_type": "code",
   "execution_count": 64,
   "metadata": {},
   "outputs": [
    {
     "name": "stdout",
     "output_type": "stream",
     "text": [
      "(1440, 2)\n"
     ]
    }
   ],
   "source": [
    "#Dimensions of new Dataframe\n",
    "print(emails.shape)"
   ]
  },
  {
   "cell_type": "code",
   "execution_count": 65,
   "metadata": {},
   "outputs": [
    {
     "data": {
      "text/html": [
       "<div>\n",
       "<style scoped>\n",
       "    .dataframe tbody tr th:only-of-type {\n",
       "        vertical-align: middle;\n",
       "    }\n",
       "\n",
       "    .dataframe tbody tr th {\n",
       "        vertical-align: top;\n",
       "    }\n",
       "\n",
       "    .dataframe thead th {\n",
       "        text-align: right;\n",
       "    }\n",
       "</style>\n",
       "<table border=\"1\" class=\"dataframe\">\n",
       "  <thead>\n",
       "    <tr style=\"text-align: right;\">\n",
       "      <th></th>\n",
       "      <th>text</th>\n",
       "      <th>category</th>\n",
       "    </tr>\n",
       "  </thead>\n",
       "  <tbody>\n",
       "    <tr>\n",
       "      <th>0</th>\n",
       "      <td>Westminster Savings Credit Union is looking fo...</td>\n",
       "      <td>ham</td>\n",
       "    </tr>\n",
       "    <tr>\n",
       "      <th>1</th>\n",
       "      <td>Dia das CrianÃ§as com atÃ© 20%OFF Presentes de...</td>\n",
       "      <td>ham</td>\n",
       "    </tr>\n",
       "    <tr>\n",
       "      <th>2</th>\n",
       "      <td>A espera acabou! Casa Riachuelo chegou no Bota...</td>\n",
       "      <td>ham</td>\n",
       "    </tr>\n",
       "    <tr>\n",
       "      <th>3</th>\n",
       "      <td>2 new jobs for 'treasurer' View jobs in Greate...</td>\n",
       "      <td>ham</td>\n",
       "    </tr>\n",
       "    <tr>\n",
       "      <th>4</th>\n",
       "      <td>Roberta, please add me to your LinkedIn networ...</td>\n",
       "      <td>ham</td>\n",
       "    </tr>\n",
       "  </tbody>\n",
       "</table>\n",
       "</div>"
      ],
      "text/plain": [
       "                                                text category\n",
       "0  Westminster Savings Credit Union is looking fo...      ham\n",
       "1  Dia das CrianÃ§as com atÃ© 20%OFF Presentes de...      ham\n",
       "2  A espera acabou! Casa Riachuelo chegou no Bota...      ham\n",
       "3  2 new jobs for 'treasurer' View jobs in Greate...      ham\n",
       "4  Roberta, please add me to your LinkedIn networ...      ham"
      ]
     },
     "execution_count": 65,
     "metadata": {},
     "output_type": "execute_result"
    }
   ],
   "source": [
    "# Head of new Dataframe\n",
    "emails.head()"
   ]
  },
  {
   "cell_type": "code",
   "execution_count": 66,
   "metadata": {},
   "outputs": [],
   "source": [
    "#Checking for duplicates and removing them\n",
    "emails.drop_duplicates(inplace = True)"
   ]
  },
  {
   "cell_type": "code",
   "execution_count": 67,
   "metadata": {},
   "outputs": [
    {
     "data": {
      "text/plain": [
       "text        0\n",
       "category    0\n",
       "dtype: int64"
      ]
     },
     "execution_count": 67,
     "metadata": {},
     "output_type": "execute_result"
    }
   ],
   "source": [
    "#Show the number of missing (NAN, NaN, na) data for each column\n",
    "emails.isnull().sum()"
   ]
  },
  {
   "cell_type": "code",
   "execution_count": 68,
   "metadata": {},
   "outputs": [
    {
     "name": "stdout",
     "output_type": "stream",
     "text": [
      "(1440, 2)\n"
     ]
    }
   ],
   "source": [
    "#Dimensions of final Dataframe\n",
    "print(emails.shape)"
   ]
  },
  {
   "cell_type": "code",
   "execution_count": 69,
   "metadata": {},
   "outputs": [
    {
     "data": {
      "text/plain": [
       "Text(0.5, 1.0, 'Distribution of Spam and Ham')"
      ]
     },
     "execution_count": 69,
     "metadata": {},
     "output_type": "execute_result"
    },
    {
     "data": {
      "image/png": "[encoded data removed]",
      "text/plain": [
       "<Figure size 432x288 with 1 Axes>"
      ]
     },
     "metadata": {
      "needs_background": "light"
     },
     "output_type": "display_data"
    }
   ],
   "source": [
    "sns.countplot(x = \"category\", data = emails)\n",
    "emails.loc[:, 'category'].value_counts()\n",
    "plt.title('Distribution of Spam and Ham')"
   ]
  },
  {
   "cell_type": "code",
   "execution_count": 70,
   "metadata": {},
   "outputs": [
    {
     "data": {
      "text/plain": [
       "<matplotlib.legend.Legend at 0x2b1a6c42708>"
      ]
     },
     "execution_count": 70,
     "metadata": {},
     "output_type": "execute_result"
    },
    {
     "data": {
      "image/png": "[encoded data removed]",
      "text/plain": [
       "<Figure size 432x288 with 1 Axes>"
      ]
     },
     "metadata": {
      "needs_background": "light"
     },
     "output_type": "display_data"
    }
   ],
   "source": [
    "# plotting graph by length.\n",
    "\n",
    "ham =emails[emails['category'] == 'ham']['text'].str.len()\n",
    "sns.distplot(ham, label='Ham')\n",
    "spam = emails[emails['category'] == 'spam']['text'].str.len()\n",
    "sns.distplot(spam, label='Spam')\n",
    "plt.title('Distribution by Length')\n",
    "plt.legend()"
   ]
  },
  {
   "cell_type": "code",
   "execution_count": 71,
   "metadata": {},
   "outputs": [
    {
     "data": {
      "text/html": [
       "<div>\n",
       "<style scoped>\n",
       "    .dataframe tbody tr th:only-of-type {\n",
       "        vertical-align: middle;\n",
       "    }\n",
       "\n",
       "    .dataframe tbody tr th {\n",
       "        vertical-align: top;\n",
       "    }\n",
       "\n",
       "    .dataframe thead tr th {\n",
       "        text-align: left;\n",
       "    }\n",
       "\n",
       "    .dataframe thead tr:last-of-type th {\n",
       "        text-align: right;\n",
       "    }\n",
       "</style>\n",
       "<table border=\"1\" class=\"dataframe\">\n",
       "  <thead>\n",
       "    <tr>\n",
       "      <th></th>\n",
       "      <th colspan=\"4\" halign=\"left\">text</th>\n",
       "    </tr>\n",
       "    <tr>\n",
       "      <th></th>\n",
       "      <th>count</th>\n",
       "      <th>unique</th>\n",
       "      <th>top</th>\n",
       "      <th>freq</th>\n",
       "    </tr>\n",
       "    <tr>\n",
       "      <th>category</th>\n",
       "      <th></th>\n",
       "      <th></th>\n",
       "      <th></th>\n",
       "      <th></th>\n",
       "    </tr>\n",
       "  </thead>\n",
       "  <tbody>\n",
       "    <tr>\n",
       "      <th>ham</th>\n",
       "      <td>1263</td>\n",
       "      <td>1263</td>\n",
       "      <td>sÃ¡bado, 22 de fevereiro de 2020  &lt;https://p.s...</td>\n",
       "      <td>1</td>\n",
       "    </tr>\n",
       "    <tr>\n",
       "      <th>spam</th>\n",
       "      <td>177</td>\n",
       "      <td>177</td>\n",
       "      <td>Here comes the sun! ð $7 Body Care + $10 of...</td>\n",
       "      <td>1</td>\n",
       "    </tr>\n",
       "  </tbody>\n",
       "</table>\n",
       "</div>"
      ],
      "text/plain": [
       "          text                                                               \n",
       "         count unique                                                top freq\n",
       "category                                                                     \n",
       "ham       1263   1263  sÃ¡bado, 22 de fevereiro de 2020  <https://p.s...    1\n",
       "spam       177    177  Here comes the sun! ð $7 Body Care + $10 of...    1"
      ]
     },
     "execution_count": 71,
     "metadata": {},
     "output_type": "execute_result"
    }
   ],
   "source": [
    "emails.groupby('category').describe()"
   ]
  },
  {
   "cell_type": "code",
   "execution_count": 72,
   "metadata": {},
   "outputs": [
    {
     "name": "stderr",
     "output_type": "stream",
     "text": [
      "[nltk_data] Downloading package stopwords to\n",
      "[nltk_data]     C:\\Users\\rfons\\AppData\\Roaming\\nltk_data...\n",
      "[nltk_data]   Package stopwords is already up-to-date!\n"
     ]
    },
    {
     "data": {
      "text/plain": [
       "True"
      ]
     },
     "execution_count": 72,
     "metadata": {},
     "output_type": "execute_result"
    }
   ],
   "source": [
    "#Need to download stopwords\n",
    "nltk.download('stopwords')"
   ]
  },
  {
   "cell_type": "code",
   "execution_count": 73,
   "metadata": {},
   "outputs": [],
   "source": [
    "#Tokenization (a list of tokens), will be used as the analyzer\n",
    "#1.Punctuations are [!\"#$%&'()*+,-./:;<=>?@[\\]^_`{|}~]\n",
    "#2.Stop words in natural language processing, are useless words (data).\n",
    "def process_text(text):\n",
    "    \n",
    "    #1 Remove Punctuationa\n",
    "    nopunc = [char for char in text if char not in string.punctuation]\n",
    "    nopunc = ''.join(nopunc)\n",
    "    \n",
    "    #2 Remove Stop Words\n",
    "    clean_words = [word for word in nopunc.split() if word.lower() not in stopwords.words('english', 'portuguese')]\n",
    "    \n",
    "    #3 Return a list of clean words\n",
    "    return clean_words"
   ]
  },
  {
   "cell_type": "code",
   "execution_count": 74,
   "metadata": {},
   "outputs": [
    {
     "data": {
      "text/plain": [
       "0    [Westminster, Savings, Credit, Union, looking,...\n",
       "1    [Dia, das, CrianÃ§as, com, atÃ©, 20OFF, Presen...\n",
       "2    [espera, acabou, Casa, Riachuelo, chegou, Bota...\n",
       "3    [2, new, jobs, treasurer, View, jobs, Greater,...\n",
       "4    [Roberta, please, add, LinkedIn, network, Hi, ...\n",
       "Name: text, dtype: object"
      ]
     },
     "execution_count": 74,
     "metadata": {},
     "output_type": "execute_result"
    }
   ],
   "source": [
    "#Show the Tokenization of the first 5 rows\n",
    "emails['text'].head().apply(process_text)"
   ]
  },
  {
   "cell_type": "code",
   "execution_count": 75,
   "metadata": {},
   "outputs": [],
   "source": [
    "from sklearn.feature_extraction.text import CountVectorizer"
   ]
  },
  {
   "cell_type": "code",
   "execution_count": 76,
   "metadata": {},
   "outputs": [],
   "source": [
    "vectorizer = CountVectorizer()\n",
    "messages_bow = vectorizer.fit_transform(emails['text'])"
   ]
  },
  {
   "cell_type": "code",
   "execution_count": 77,
   "metadata": {
    "scrolled": true
   },
   "outputs": [
    {
     "data": {
      "text/plain": [
       "['00',\n",
       " '000',\n",
       " '000000',\n",
       " '000001444409271554',\n",
       " '0001',\n",
       " '000fa0e4695a',\n",
       " '001',\n",
       " '0011',\n",
       " '00180e03f4dd',\n",
       " '00360305',\n",
       " '005',\n",
       " '0052gihr_gg5ffkbirfif8v3uyskwtpuzddtuaxvxuvvnya06fypgw5l5ignggrm4',\n",
       " '0059be0j8hveuqbbswdaawdmq',\n",
       " '005ccce18ce2',\n",
       " '006e',\n",
       " '007',\n",
       " '007099661a1c',\n",
       " '0072',\n",
       " '0081c3d30b39',\n",
       " '00843b6846d6',\n",
       " '009f854ccffa',\n",
       " '00am',\n",
       " '00azyy8gtwzanl677cmjxpc2vyyjfj',\n",
       " '00b973640767',\n",
       " '00bc60da',\n",
       " '00cbe37e',\n",
       " '00cd',\n",
       " '00dwsrirhas8nloqf89ubomk',\n",
       " '00e0',\n",
       " '00ef',\n",
       " '00f43671ffbd',\n",
       " '00fde707135b',\n",
       " '00gnya',\n",
       " '00le9qhdyodpxidrrb8a25ztl45hqle0tr5ko1cfn1i',\n",
       " '00linpyvpsecedz8xxcetlczpu8lz9tqnytwjf',\n",
       " '00my4bxs4j2ycwps',\n",
       " '00pm',\n",
       " '00rnzr8jm',\n",
       " '00u',\n",
       " '00uzuot1bl7efoxjidq',\n",
       " '01',\n",
       " '010',\n",
       " '0100016e040fde04',\n",
       " '0100016e28507f51',\n",
       " '0100016f34e2cc15',\n",
       " '0100016f4952ebdf',\n",
       " '0100016ff8320b14',\n",
       " '0100017078856a03',\n",
       " '01000172a0b3b012',\n",
       " '01000172a4701ff8',\n",
       " '010001734028aff6',\n",
       " '01000173991c3e83',\n",
       " '01000174acc6e90a',\n",
       " '01000175355ceee9',\n",
       " '0103',\n",
       " '010k7fdhn',\n",
       " '0111',\n",
       " '01299566ca4d',\n",
       " '01310915',\n",
       " '0137',\n",
       " '013a6429d613',\n",
       " '013c',\n",
       " '014388',\n",
       " '01504',\n",
       " '016854193',\n",
       " '0176',\n",
       " '0182',\n",
       " '018bab62905f',\n",
       " '01_casual_campanha_08',\n",
       " '01_casual_campanha_13',\n",
       " '01_casual_campanha_14',\n",
       " '01_casual_campanha_15',\n",
       " '01_casual_campanha_17',\n",
       " '01_casual_campanha_19',\n",
       " '01_casual_campanha_22',\n",
       " '01a1',\n",
       " '01a2',\n",
       " '01a3',\n",
       " '01a9',\n",
       " '01ba0c67',\n",
       " '01bdbcba7a36',\n",
       " '01c75849',\n",
       " '01d9',\n",
       " '01dadb55e732',\n",
       " '01frxmybnsn5s999u6ribnrppohrjdyiya2ctpesbuu',\n",
       " '01pm6jwyrb3uwymqhn',\n",
       " '01uckatdmezdk1menybwyf',\n",
       " '01yuwo4ujq',\n",
       " '01z5hxazdkzgyag7gxtrubb0cd3dxgnnlpw1',\n",
       " '02',\n",
       " '020',\n",
       " '020116_uber_logo',\n",
       " '02093424',\n",
       " '020c',\n",
       " '020cf0f2fb2f',\n",
       " '021',\n",
       " '02116',\n",
       " '0223_demandmessaging',\n",
       " '022b',\n",
       " '023cf7e151d8',\n",
       " '023e',\n",
       " '024a',\n",
       " '02756f641ff7',\n",
       " '0277',\n",
       " '0285',\n",
       " '0294034448f9',\n",
       " '02a55718',\n",
       " '02a9c7e5a4c4',\n",
       " '02af850a',\n",
       " '02dhvzm6yytcnmyapij8xbwykrhamkelb8_edwy3qzzq0gar_6wvslfz_t7dwljuqxleba__v',\n",
       " '02e5',\n",
       " '02e9c45a',\n",
       " '02eb919291f6',\n",
       " '02f5e7c2c0d1',\n",
       " '02f7',\n",
       " '02ipg6hjrjfk',\n",
       " '02ju1itk1',\n",
       " '02lvv7l6yztvfia3i9dzdwjzy3rpfllwnac',\n",
       " '03',\n",
       " '030a',\n",
       " '030e2dad07d0',\n",
       " '0318',\n",
       " '0318b73c',\n",
       " '031e21ea2f30',\n",
       " '031u3tikiwvtmdezvsehwbuk',\n",
       " '032a',\n",
       " '0338',\n",
       " '033876',\n",
       " '033a',\n",
       " '033d',\n",
       " '0341',\n",
       " '0342eb24ccc7',\n",
       " '0352',\n",
       " '03641bbfdc2b',\n",
       " '0366f87c4e78',\n",
       " '03696a4b77',\n",
       " '0382',\n",
       " '0389',\n",
       " '039d',\n",
       " '03a6',\n",
       " '03ac',\n",
       " '03apyptlxbuix8xbwskrey4rhmpqcs1s6wnd3dwrbie',\n",
       " '03cc4a3dd340',\n",
       " '03ce3ipoaiskvjnqvdnqn',\n",
       " '03df9dd93642',\n",
       " '03ea',\n",
       " '03f07d49',\n",
       " '03fee4966ca6',\n",
       " '03juqghs6x8lvk1ce0sfm2mvzkspjcdipum6xu1xzmtg8eznnhulswgkhqgjxvtejcr5cajikmqyoorbbv8ejbw4qgk27cciqdxv9nrvhuympeep',\n",
       " '03klhoti9f0',\n",
       " '03lsudk4klsnwab5xkd0xh54cxtsymun54zwzs0u4ss',\n",
       " '03mphdkxh6zcnj6ofo_jt2etrz0injytbbh56hohiixxjfgeszdjbr',\n",
       " '03nphcfdfkw34zpxc2y',\n",
       " '03wuqzueh15kjcoo4wj',\n",
       " '03zvjtsz220yjvrqigq23pwrtwoqeve0aylovem7prwf4wwudxyewtkhnvns_oylt9ahtbikqtzp1jmv5a2rlg19s6tc6ydxabwcngl2yvfasg1eytfjmibnqqb62uqzlksd_as7gfvgagzzra_8doaojalixz1aghc',\n",
       " '04',\n",
       " '040',\n",
       " '04007',\n",
       " '0406',\n",
       " '0408',\n",
       " '040k3yfgcw0z',\n",
       " '041',\n",
       " '043474',\n",
       " '0437',\n",
       " '043d7cb512fd',\n",
       " '0441c020ae5f',\n",
       " '044b606d1de0cccde470453c09340bd072cbdaaa551c9dc7dfbe1ccddb4d4287df3769d19e92647e750d17562d89ab7d234aeda0da9bcc3e',\n",
       " '04575',\n",
       " '04578',\n",
       " '0468',\n",
       " '046ef90897dd',\n",
       " '046f',\n",
       " '0473f248dce7',\n",
       " '04799dfc9fa7',\n",
       " '047sespp8j6o7imt10y7ceshcbjwcymmrni5ga',\n",
       " '04824187',\n",
       " '048d89207d1c',\n",
       " '0499bc482871',\n",
       " '049d',\n",
       " '04a142f0',\n",
       " '04b45c6a',\n",
       " '04bd0e85',\n",
       " '04c425cc8e84',\n",
       " '04cac0c86b99',\n",
       " '04d23d510017',\n",
       " '04d4e93edd68',\n",
       " '04dc',\n",
       " '04f0',\n",
       " '04gsygdgaaaxbuz3uvufhbrdkqozuj3i7nsjehk7dpae4u7cbxl3nxasscle3gonqlbhtnjei1evysaormfnh1mfjanl5pggzr_aafqoytdw13a',\n",
       " '04jku8xmmxslwu55fcxavwbmuq4pytxaacrwxnbjfvu',\n",
       " '04oz',\n",
       " '04relwb9rdl1ds7z85ik',\n",
       " '04sitpqq4cbzkykscd81g3isssv3fh9w6r1bnair9cy',\n",
       " '04yux0dwd1mf2blmxie',\n",
       " '05',\n",
       " '050',\n",
       " '050329cbc3fae9d995b120cd7c719b0a69beed03_new',\n",
       " '0505',\n",
       " '050573b6dc26',\n",
       " '0509',\n",
       " '051',\n",
       " '051dd650ba92',\n",
       " '052',\n",
       " '05336901',\n",
       " '0549f0d4c184',\n",
       " '054dqtdhq7fhhvrkdorpcze8rp5dwmjtxporhowejhs',\n",
       " '055018a596ce',\n",
       " '0558d3a1fddc',\n",
       " '0560zm82ovs62qhxn',\n",
       " '057b087ff0d0',\n",
       " '057e57fdb540',\n",
       " '058',\n",
       " '05963dc5',\n",
       " '059dbdd4',\n",
       " '05be',\n",
       " '05c5',\n",
       " '05d6',\n",
       " '05f1',\n",
       " '05f5e0358bf0',\n",
       " '05fd',\n",
       " '05hjdevsswcvnpf0airzqz4vxo',\n",
       " '05i68x4dsbe7hpazsntt3ygokbkejbdbhea',\n",
       " '05o7gklat1d7prxmu8yqe1xcy31iiv46tt13vabi4xs',\n",
       " '05om4mzkibu2knfz4rc7fg_c3wsqflymulxolgfy',\n",
       " '05orqg_dippzax4x31g8zmjyujhrqnrcemglj83fqlnfer8sd9ld1oamt7nin1ovbne0y028mpbo',\n",
       " '06',\n",
       " '060120',\n",
       " '0603',\n",
       " '0608716b759a',\n",
       " '061',\n",
       " '061154309c2a',\n",
       " '061750',\n",
       " '062e',\n",
       " '062f',\n",
       " '063266586c37',\n",
       " '0637aadb',\n",
       " '063acf708857',\n",
       " '0645',\n",
       " '065c',\n",
       " '0668',\n",
       " '0672',\n",
       " '06745a144fd6',\n",
       " '067d',\n",
       " '06a5',\n",
       " '06a86404857c',\n",
       " '06b10f45d97d',\n",
       " '06b3',\n",
       " '06b6',\n",
       " '06c78ed5cdcc4978a189361b484b93c7fea7ac4cd3904318686e3f60cc9d940837cce61b3543fe2469d91b43433962cb1a3541f3cf2caeab',\n",
       " '06c78ed5cdcc4978d952c694bed43a1bda0a807b05a5b0ea87a7e3cbe28df94c229ead3ae013ef1721c56381451aad957cbfe7167337c03e',\n",
       " '06cca8a8fe3b',\n",
       " '06e4bd850904',\n",
       " '06edce3pkdjshnxtqjhk',\n",
       " '06f2',\n",
       " '06f3596a389c',\n",
       " '06f57e3b739d',\n",
       " '06f6addfe843',\n",
       " '06fa9095b992',\n",
       " '06fbf63028e1',\n",
       " '06jztmxmgr69t3o0i2wmtk1dwqwb1cyjx5e1cknabzhuewnusqmnzxjrqhvvuqsvh0lcdrfowrdgtojwno0nrglncqyuidagpxkclf2g9ztsl824lxf5uvekrbbpl39uungn1ior4fimcstpyi92lqfw8d1xy5awr8cduydlxrnw1nd9peuncivxduad',\n",
       " '06nyjyfs7qmd4czx9bhluromflecstfmz',\n",
       " '06rqdnbgexoqvmmx9obmg8zmlq7djwyxfssa42kbigbqst8pe898g5fjuqbjjpaa6iuh8nc_pq',\n",
       " '06z863yd6qxrqz0arlxfiecvrlipjgnk7bpbunpfh60',\n",
       " '07',\n",
       " '070c3fc923c7',\n",
       " '071b',\n",
       " '0726182a',\n",
       " '0728',\n",
       " '072877',\n",
       " '072dfa99c850',\n",
       " '072esupmf_1rajzoq',\n",
       " '073',\n",
       " '07417ef7',\n",
       " '0750',\n",
       " '0751c7841a3f',\n",
       " '075c101a3110',\n",
       " '075e',\n",
       " '076b71ee4d10',\n",
       " '076b8cc7',\n",
       " '076d',\n",
       " '0774388d6e47',\n",
       " '07904f49df67',\n",
       " '07960',\n",
       " '0797',\n",
       " '0798',\n",
       " '07_lwfjbwe',\n",
       " '07a6',\n",
       " '07a8',\n",
       " '07bf',\n",
       " '07dc6660fcb6',\n",
       " '07dec446736f',\n",
       " '07dqbxstdmdnikndwlz50qyerw6moh8zgnbuodq8_nfrzn4xqyuw38l9gezt_w_qnwlbnrse',\n",
       " '07e9',\n",
       " '07f8',\n",
       " '07fumn1q',\n",
       " '07ol7z_74jq391veh1adxxmtbd3yksxrhi',\n",
       " '07plvfajkpus5xxeyabxd8bdhuy',\n",
       " '07torzfxptqgvwom4emjc3hzpqij7kgqk32ghsubj68',\n",
       " '07ubmhzwdoskz1vnj1cwnns5hssfpj0_x2m2du6f1tl4zjixozdp8jwolvl',\n",
       " '07vifhgfwj510bhz8fqfttisyc2q3scg6hjgwfbej4q',\n",
       " '07x6i7adc5phsgksfhn676fmoaoid',\n",
       " '08',\n",
       " '0800',\n",
       " '08022020_spo_retailer_kate_dod',\n",
       " '08022020_spo_retailer_kate_dod_eng',\n",
       " '0803355df317',\n",
       " '080e',\n",
       " '081119',\n",
       " '081e',\n",
       " '082',\n",
       " '0821',\n",
       " '082b',\n",
       " '082e',\n",
       " '08311b7b8c52',\n",
       " '08385e23ae9f',\n",
       " '083f',\n",
       " '084b',\n",
       " '08525',\n",
       " '086',\n",
       " '0869',\n",
       " '0872',\n",
       " '0875c25e908b_2019',\n",
       " '088782c4bc94_2019',\n",
       " '088a262fb068',\n",
       " '089394ae5a3a',\n",
       " '08a3',\n",
       " '08aad5a115b8',\n",
       " '08b207b1',\n",
       " '08b58b894b59',\n",
       " '08cusmd4l0jqqmk',\n",
       " '08d0',\n",
       " '08d2ee0f107e',\n",
       " '08e4',\n",
       " '08ea99089d7c',\n",
       " '08ff',\n",
       " '08fjfb9ttkjajartx2sa1squg9rjct9usysgogc38kq',\n",
       " '08mke3iitger03uxpjgg8dlmqftb',\n",
       " '08om',\n",
       " '08ot7qziswvoliyqhrcp4tuinnvq',\n",
       " '08ouo7iijpm',\n",
       " '08pbnftpuoffs3nucjrsux6ssdaqydt',\n",
       " '08ptbsyvpbgzi6jfcqwp4f_ryhczcqlxj4i652vuvfbf',\n",
       " '08rpgxydrlb9rx5k8zzeqzmkv3oo32lxehy13zjshnskjue2wdajo0dqgmayixj',\n",
       " '08x',\n",
       " '09',\n",
       " '09006757f73b3b036e0afde5a2a27e8a698dc7d5a2e0113d2d2663a354e8dfb07c0f2042743d5b9fe11c898585acbe83096714875c8f0f65',\n",
       " '09006757f73b3b036e0afde5a2a27e8a698dc7d5a2e0113d5abaaa6beb0e0a662b094a5a368b569695586c544e08fb3f0c64d42258b61ae1',\n",
       " '09006757f73b3b036e0afde5a2a27e8aada27c2088571eea9c27b0230f445ffd1db01142cae11523b0840c704594f3f838db6f070eb10740',\n",
       " '091600d4671d',\n",
       " '091d',\n",
       " '0921',\n",
       " '09217d9c71fd',\n",
       " '09394cdfac5e',\n",
       " '094nccynwtbtic',\n",
       " '0954',\n",
       " '095a',\n",
       " '095lasuow',\n",
       " '096c',\n",
       " '0974',\n",
       " '0982',\n",
       " '09824691',\n",
       " '09a8d69c1bb4',\n",
       " '09a9',\n",
       " '09b1a652339f86ca31ebc48a866c10f443dcd2ccf5e43dfd0efb8cb3674310998a9a382dbe5c9e964959c55481dfe314cf115fdd5c3edfc9',\n",
       " '09b1a652339f86ca48ad3c41a4e719cdd441ca598bbaa14298de82406eac83df4d2eb33b4421c762b190ce4be85b9c36eed8e7be7316a758',\n",
       " '09b1a652339f86caae6c578b0194838b982031faa1e042145bc0a32734cdfb711b0161db35657dad3173d08512a30500e051fed915070392',\n",
       " '09b1a652339f86cabb834c38f2972f35f4d3a4def162145e6128123573713f13ce64768b923f4a2ff9576c76e2b9a594131f375db5ecd8c9',\n",
       " '09c0d2081dc9',\n",
       " '09c9',\n",
       " '09ddf5716cc2',\n",
       " '09enexh4vnspppwvg0xt0cuqpgnfb2fknjnsd6vno4abw2rrskx6tvn6z47ub47msylefypuqd2okzwchphfgbn8fquahpnk28pwqgbnahpgiyhjrbpf3oo7ychniipltm6rlwxm6uxwazqm2miztbq6ppcuc6hbw4rjzoy_fi3',\n",
       " '09f8',\n",
       " '09h',\n",
       " '09iwgus6dwuxnnq4dmtgktoarijdforc1tcsd7lzvtyswk',\n",
       " '09l1rg',\n",
       " '09r',\n",
       " '09tbbju6',\n",
       " '0_aibzkxnbt58k3of1j3nkmor1vkb',\n",
       " '0_en58t1iksmzcpmelwihg',\n",
       " '0_y4hlgcrxp_xxc76kcubg',\n",
       " '0a00',\n",
       " '0a011f1026eb',\n",
       " '0a02',\n",
       " '0a1',\n",
       " '0a1fbc467ba1',\n",
       " '0a1kz81anez2790nm37',\n",
       " '0a2467af0b5d',\n",
       " '0a298627',\n",
       " '0a359d3f',\n",
       " '0a3e',\n",
       " '0a3vwknfr4mk9rji8k9qs2mq7wescwsfzexm2qfypfo',\n",
       " '0a6',\n",
       " '0a60ffrad7aoljgxrh3qlkekxw2wyeq5gp4glusb7vdltp8xloafwi0',\n",
       " '0a6d3wt852wbtcwqf11pdep6xb1ehqrnolqlfpddzk4',\n",
       " '0a6f6b157e0c',\n",
       " '0a70',\n",
       " '0a77272f',\n",
       " '0a7c',\n",
       " '0a7tr8ji6wk7hvzjxipjrmou',\n",
       " '0a81b2682ea2',\n",
       " '0a8ff140780e',\n",
       " '0a8oxkkt2tmapluzzi8qkdusp35t4ud4',\n",
       " '0a905f28505d',\n",
       " '0a94',\n",
       " '0a9mwh5bqszrk',\n",
       " '0aa128765855',\n",
       " '0aa7zokli2chjalcou7jvajabosyplki9vwcnsivilm',\n",
       " '0aadfbf5a08b',\n",
       " '0ab24564',\n",
       " '0acf',\n",
       " '0ae4',\n",
       " '0ae51586',\n",
       " '0aer1mft_ptke8ixxbjyttbbndfro0snpyf0xivewf00u2gosrcpfqxp3u2j6xxcbfy4a0iaeh1k6ynlcohvsfxq6xxpmwnbyc2q8wo_rrmnyy7ylcxrfifhkohscoct8j3ewzpwjat',\n",
       " '0af9p_pjvaw',\n",
       " '0afcvaz1caqpyrxold8n2f8yxuma',\n",
       " '0ai6nrq7qmfrasgqvz6l4mlhbipp',\n",
       " '0alcmusc5pumtz6qxdupaj2yi4uutf2d1r_zgitejwa74omlxu1fjmo9zy3mqnlfnvynooef6x1rtxovp1mngzjyiefyzdieey_qlspjx9pae9ltg5qm1',\n",
       " '0aoo3wo',\n",
       " '0aqdolauvxdh3wk8egd4rtiwj2k0qbd1uptgtn5wz2i',\n",
       " '0axczqhmzpyxtu6p2pro8uixvhhanrrbad3rcoz2ywy',\n",
       " '0aywrrubybxwcyflplqdytdp',\n",
       " '0azfjjwkqm3xpq0l8lk9dfy8au73cbd8n3ueqnz0n0a',\n",
       " '0azjpozc6x1sct6twzsmejmqtquttk8numknlk06xk4',\n",
       " '0azmz8h5vyn3uzfmevytc27xjmexidpdin7',\n",
       " '0aznvjj1',\n",
       " '0b',\n",
       " '0b1',\n",
       " '0b153433',\n",
       " '0b31e44e2e79',\n",
       " '0b3ac6b0',\n",
       " '0b45eb78',\n",
       " '0b4e',\n",
       " '0b51',\n",
       " '0b51babba8ca',\n",
       " '0b58gc2amre0vd0cyzjqw450i223flrxyqldpo0jmuqsaudtzomy3izjrr9uo_6l48lw5jukrpcmzuvz6bhr6xue4m79dd04n',\n",
       " '0b5a',\n",
       " '0b7a',\n",
       " '0b7c',\n",
       " '0b891931bbd8',\n",
       " '0b9d',\n",
       " '0b9f',\n",
       " '0b9jby1wxxt84pqf',\n",
       " '0ba49fc1ecd2',\n",
       " '0ba9',\n",
       " '0baf11f2dd87',\n",
       " '0bb6bc16eac9',\n",
       " '0bbd0c2eb53a',\n",
       " '0bdd4bu1g1bccrhcasfuboqz3yisfvrc5rijnnuownb',\n",
       " '0bf3610a8c68',\n",
       " '0bfaac10',\n",
       " '0bfb7aa2',\n",
       " '0bfd',\n",
       " '0bff',\n",
       " '0bfm34gqggb8k0zpguwyx7opzefw1phqo4whujsyonu',\n",
       " '0bfmxrwgsrh8zhbpq1elw8rndqwm32b5vn2npgszlubznd69v32oy9fcwu8bjhyeyxecza23rzua4d2fyxd9xew9uvyv0txm5qwasttxdd_vuc1o2ypfeyoup',\n",
       " '0bhae602bvwljm1lger55wzwduclylzfxswwulniplmbbbmgphaf1biwuemuzooj',\n",
       " '0bhls25tpmwpu4yxpm9gdmfubt9',\n",
       " '0bk0caqkcbipztgple4oo2ze7c0t_y',\n",
       " '0blbyeqfng1k1a1pg5mxhjc6i729gbnhuea2z5zm',\n",
       " '0blc7almzxq',\n",
       " '0blz',\n",
       " '0bmnzj1ojyqsxoomw',\n",
       " '0bpsfnm85z6u8lip4yv7wzhckxvv6olljhign6gykoa',\n",
       " '0bq8ujefi3r43xctqqaccnoriixeydezsnwzej7ueys',\n",
       " '0bqv34ia7hwxopflblk8ksjr9hrfhsjgosd0cva6nxdsll1ozpw80p5ebhkl1mfsesdxd',\n",
       " '0bvvdg9m42',\n",
       " '0bzr9',\n",
       " '0c06ba515b87',\n",
       " '0c0l1nwyouit',\n",
       " '0c16auigmj2obda',\n",
       " '0c2',\n",
       " '0c2ebf7ea025',\n",
       " '0c3k8',\n",
       " '0c4',\n",
       " '0c4b',\n",
       " '0c4e3a47cd41',\n",
       " '0c64e6249474',\n",
       " '0c7e',\n",
       " '0c8c5043a7b5',\n",
       " '0c8kmxizvcuyjv6s045rodnvadecaevqse',\n",
       " '0c8xjbgyenpodc84hlqlb3uselj1rup74z_0fgwkuteqizd9ig',\n",
       " '0c952766',\n",
       " '0c98d3cd8db5',\n",
       " '0ca0',\n",
       " '0ca1',\n",
       " '0ca3',\n",
       " '0cad22vtxumbk7fo8esqbmp8ln1svdh5efmqyysubcs',\n",
       " '0capbmsxl4uyp1bsvekltvw6ww_telstch7jzjwpnvd7acvquclbymbdkqqolp',\n",
       " '0cbo5gvgf2j',\n",
       " '0cd0d21057ab',\n",
       " '0cd1',\n",
       " '0cd2',\n",
       " '0cea',\n",
       " '0cejqr',\n",
       " '0cem',\n",
       " '0cf0a862',\n",
       " '0cf2',\n",
       " '0cf33ce0',\n",
       " '0cf60c5247ee',\n",
       " '0cf73973ef00',\n",
       " '0cg',\n",
       " '0cgxqchpmvxwhbwe5tbjmbpagwahh354nyen7dp8yye',\n",
       " '0cigqtat8qkfluybm9mkbyve7rddc7rjoy',\n",
       " '0cjqdy9zzohf2vtt0pqjfvb1he5gyiiemw',\n",
       " '0coe',\n",
       " '0cp48lzcx1dpovemw8m',\n",
       " '0csowl3aum32iev98fcdkieyptyjznyhx',\n",
       " '0cudylqfxdsor5',\n",
       " '0cueg4d5bv6v2mt',\n",
       " '0cuusjq3vnf3tg0ust0saqfpy0r',\n",
       " '0cz32wvenysiick3',\n",
       " '0cza8c9caieiq44pjipd',\n",
       " '0d08',\n",
       " '0d13',\n",
       " '0d1dcfe5',\n",
       " '0d20676990a1',\n",
       " '0d23',\n",
       " '0d2ec8bfea',\n",
       " '0d37',\n",
       " '0d3a3t2omia7n1ljzmpku9fuprwpvjeizf6s0zjizvjumkelkubtw0snsg3xth9yrppjnyqa',\n",
       " '0d43',\n",
       " '0d64bd01',\n",
       " '0d87',\n",
       " '0d8e6f19',\n",
       " '0d96',\n",
       " '0d99a299a3e8',\n",
       " '0d9bb9a2',\n",
       " '0da7',\n",
       " '0dada18aa246',\n",
       " '0das36',\n",
       " '0db2aa44969b',\n",
       " '0dbuhreky4oweh6hitiggneekh93s',\n",
       " '0dc0',\n",
       " '0dcb768c3102',\n",
       " '0dd02bd5eec6',\n",
       " '0dd0d1edf3ac',\n",
       " '0dd351aa977a',\n",
       " '0df7',\n",
       " '0dfd1ewlqoin8wmotu81ugmkyqysovftac5b1p2ng6u',\n",
       " '0dfpif4hr6cdnmnegj3dvy_mweaclzyewwysqam1iu',\n",
       " '0djkhgpr7onctjygn5vvyb8frfvpttn6gyimh9sgamrqlq6nbupiov',\n",
       " '0djv',\n",
       " '0dn6voxzqf6kl4w5uylsvpvv',\n",
       " '0dne41f7dx6unnietg7',\n",
       " '0dniqqw3edwtvkggtrcrakphlk',\n",
       " '0dpaxkzal0r_w4dhzigu3d8jcqpqfe778xcasezh3w4vfqjlxqgzmuw',\n",
       " '0dpun1undxil9lmowqxnavykncx2dpq5c',\n",
       " '0drkipukjtxpgykhxgkioyhubfqti9tcrmt6fw8jvqq',\n",
       " '0dsemhqtifbqn05',\n",
       " '0dumawuj242dbjnrblcllnjeag9qibuduqkrazggjme',\n",
       " '0dvhjhv6eat27nyi1i6aqmnwcq',\n",
       " '0e',\n",
       " '0e0bwdwy0aqlm6nt42djl3wc8hazumgb4sx0phjs76i',\n",
       " '0e0fb38de9f3',\n",
       " '0e10',\n",
       " '0e2fh4xeaxq6zmq',\n",
       " '0e35',\n",
       " '0e3qsqe',\n",
       " '0e4',\n",
       " '0e4c',\n",
       " '0e5269f3e0b4',\n",
       " '0e5e6da292b8',\n",
       " '0e6156249af5',\n",
       " '0ea965af4463',\n",
       " '0eb232a1d272',\n",
       " '0eb7fc198a36',\n",
       " '0ebxauhvpivd_p9wjjsxnowvt8pq9rlp4wstuw',\n",
       " '0ec6d4d29dec',\n",
       " '0eclmddynjg0hyysmg2pttdvdnharhorcxr6jhspx6i',\n",
       " '0ee2f073',\n",
       " '0ee57b9a1c1b',\n",
       " '0ef2',\n",
       " '0ef5',\n",
       " '0ef5mr_nxc1df0zii2qhuhv0d8bx_esdbkr0gpdyypxeo6iiekqidecv1idyjghmqch5di5eq31edzxy_wwm9csueijv1ctcpioayqbaodgijbhltaj5qv9oo9tiz1',\n",
       " '0efebfa390ee',\n",
       " '0egm1dnc1yosd0pgyrzb3ez1u1bto8ce',\n",
       " '0egwtdrc1rziabyqumxvpzkzeu',\n",
       " '0emnxdowh1agycbcicnsjdteqk1f',\n",
       " '0enpe9suugoecqowuzphbzc',\n",
       " '0eskbm6bwtryy7f25sype1ma3rv4m',\n",
       " '0etv6nkjbzk76kl5vw7badbb6y6i',\n",
       " '0etvfmuwer7jglfxkobylrgfmb11cuhjg8bs9mnczei',\n",
       " '0ev93oqdcpctgqyxk7_sxmtgtezierkdyjgivej2zbukv68acd8ve0uw9rgfwgugvfdu1sinlvk6jn8hubg_bxcbl',\n",
       " '0ezj21yvtlgshzm1ilgaeo_p34hkphyha6qz4ey9',\n",
       " '0f02cca64509',\n",
       " '0f098d90102a8c59f8d31bfd52fdc147dd3862cb639a553579275a82ea7fad548f8daf32d2d6952f2dae0f7ad568dcf7e2caabeed891f87f',\n",
       " '0f10',\n",
       " '0f189acd0feca00e009c1af72768a180c1514be3e155535ad0f62cad9786433187d151c524843434a6e6787f4798f9173a5bbdb40bfb9353',\n",
       " '0f189acd0feca00e28974d8f5f23939aeff4824cdea5aedcbe2f99b9de8b9734d4992f155126dbb87f73c45b868ec0d68c72248be6770e81',\n",
       " '0f189acd0feca00e3a91f7b94e2f020b0d451649a61632f6c37a5ac3f07decca5d0acb15b8971dfa4cad2dbb07cf94955cb193b8d2f8f753',\n",
       " '0f189acd0feca00e445bb1ddc2f3b85885b112f79515cda5a487024bbc6204e65a8343c3492cccaccc36cf73211c57ca51c3561c7949a38c',\n",
       " '0f189acd0feca00ec8d6e52b21ddec21f89afe652d3001f7891d80f54e56e0ee450460e0b6ffdf74209e0f0fd5077c614c0a34783b5f458e',\n",
       " '0f29',\n",
       " '0f35b6bd6438',\n",
       " '0f42f961cd26',\n",
       " '0f43',\n",
       " '0f6ed3c4c6ff',\n",
       " '0f6qs63j8zysxqk',\n",
       " '0f77',\n",
       " '0f81',\n",
       " '0f8fprculeywtngwnzbsivzn4lhqiuhbjy',\n",
       " '0f92',\n",
       " '0f983ebef15e',\n",
       " '0f9a',\n",
       " '0f9i35gqfgrynvo0wxq3knkpm5jg5xlauklnpofqfno',\n",
       " '0fa4ay0dubplguu2cthdkzfmw07q7zsui_fdlo6socsdsrwxbg2',\n",
       " '0fa6',\n",
       " '0fafyb',\n",
       " '0fb0',\n",
       " '0fb115825df8',\n",
       " '0fce2edb',\n",
       " '0fdb',\n",
       " '0fdf',\n",
       " '0fe9ab235726',\n",
       " '0fenrphjuunxc4gzqohupqajmoxidhfy_kt1tx6i5akggiemvugyty61xu0dh1hdl',\n",
       " '0fetpkohtgt64usfbuoy50tbxcdjzuoaah6grztpygnjplvnfbgcpzskgyh',\n",
       " '0fgcmq8ndtv8czfsbfosme',\n",
       " '0fhjabni0tltrhszalr1zrj2bh6brg',\n",
       " '0fhs3pkx',\n",
       " '0fi',\n",
       " '0firte7veoli',\n",
       " '0fk9kaf',\n",
       " '0fm3n4',\n",
       " '0fnb3cb',\n",
       " '0fnjtmvuljo2gzxps9y',\n",
       " '0fnzfb_iaaaaxp',\n",
       " '0fop6xpmr9bixqiw_uoiwqdxbfjhfl',\n",
       " '0fop6xpmr9bixqiw_uoiwqdxbzr_enzsax6gri4xva2wgrjlkcbeie5vj6j9gmajvsul',\n",
       " '0fp3b9lnrlzerbp3jmke',\n",
       " '0fpvm3knevbktfqafljirn3w3j3kkvbtfpf9e9qo',\n",
       " '0frlbyojf0cjxna3ssbnjrxsfx1gjrfkznkk0k',\n",
       " '0fwonakpglwj6mfqxmfuhky3qlsagxbnxdzahd3',\n",
       " '0fxmq',\n",
       " '0fz32f_rumfnzfmncjaxn0jhvks42duzrptnxmu9hluybtrawc1bab2',\n",
       " '0g',\n",
       " '0g04uftmkh_3bvebp0dkb6mi',\n",
       " '0g050la5bfpwrqijujzfwvqlmnmwas2omgz1lz',\n",
       " '0g16mpro0qdociwqszysvxflydejpoakmgrdn3bzavgpcuy9m9wiydrih4tqrnik6_ks2nwumo6tbr9t2vbe0xhewipxdfawy0atqqjnttuqqmpi2bgr1cktplv_jkqukrqezk',\n",
       " '0g5ek4dwfmpjnhydwr',\n",
       " '0g85zujhyb',\n",
       " '0g88hpt4oh3lzdsvda0qtutwyucwu3fewdvt6rtt9dm',\n",
       " '0gaghxugwhcpxtasptpklp',\n",
       " '0gckqhnakqa7g',\n",
       " '0gg0zjnpmalmpqaowacln5nuqdwargnlesxspywi8j8euhwjgor5',\n",
       " '0ggjeraysigicdtsynlgmmfbrfg7sbeavf5m0cq',\n",
       " '0ghozkbdwx_z7maljt2wqdiopa0xqijyj6uco6gcq3i',\n",
       " '0giy5mzpw5619y9uz',\n",
       " '0gk',\n",
       " '0glnb4nlo9k6d15ja1awh',\n",
       " '0gneqfmsc3vpxtcfkc5qs4edpvsxl0',\n",
       " '0gqdatqy1miinbfspvenj5jfzti4tecy1vq',\n",
       " '0gudd2qrfc7qoyfpyfzxir6mlcxf0j9mg68q9rbg7sa',\n",
       " '0h43szvfatfmfrfurrvhikv',\n",
       " '0hb1iva8dekttuazpqwv3dilwdat4i0laofazsauvgigu14u52jxohy3bhquwnoeve7zllf_niu6jf12felwjzhvz6dhpefa3do69knpjbty3yi5qzegvdwjrf04kk',\n",
       " '0hfvlfypiilzlvvs0gxb4r2_fk8sbbfeps4hte1wtnbevpyfaodj8u5prjzrw5rvbfcbzsmrumfcfta3pl4wn',\n",
       " '0hiiwkc9tctvyaoasggpgrcanw9bnrspnpehzbazu7i',\n",
       " '0hkxxxhooit',\n",
       " '0hmf7dlrckihrzhpttk3hfyllwkr77zup8p16pg8at9zxnspcqtlnreiotnoosqqw6hoalxrc2c5pcs',\n",
       " '0hnz6yvzmsm0',\n",
       " '0huis6uep',\n",
       " '0hum0h04zuxj7w8w3dkggtlumh99tt9nisrf62y7omi',\n",
       " '0hvkhafhzhibkgehj9u',\n",
       " '0hw2beghcal',\n",
       " '0hyblqwc',\n",
       " '0hz2yzvxdehysaaarclz6mf42hhhh3bj25i3zyhjh6u0j2qngyjq',\n",
       " '0i1mi',\n",
       " '0iajaeo6cuxlzipwymkwxq5tuejm6ffgryknhsiqsbs',\n",
       " '0ianj0k4mmmm8poxumxiuhp8cg10re45as3jmlyxyje',\n",
       " '0iawq8viyw',\n",
       " '0iccelqu0523scbengi2mx45izoopxfpqfw6omagmatgcvdrwlyqufz6xfuibsldmnk9ursi3',\n",
       " '0ifzy2punjkzgwenhqlw9inijxbpqodfcvs4noelog4',\n",
       " '0ijt',\n",
       " '0ik11dmdilgudus0k56o_1hr7o',\n",
       " '0ilpmmnaue54tywlkjuwggde0l8xjllux93rgy97q',\n",
       " '0iocnfr1ae_jcpuurnlxzdklbazpqnrdjld2rptb8mxgmv1bvh1vbf3sfyidmu3sdxz3y6byyowx_epj1hhnzupkhwmgbp62mhe8uww',\n",
       " '0iopkxe4o50dxhtj4eaqniur0wen3zdc9sytuizisz8',\n",
       " '0iqh4z2ljlvrvdetrmzxvw7b3okeundf',\n",
       " '0isn9tyhjafao8tqjg1gyapdffx6bpkuuilp8sjkhei',\n",
       " '0isrrmsss0723htfnnn7wssqgmad',\n",
       " '0iswwv',\n",
       " '0itdizfuuv',\n",
       " '0iunzcf9ms5ab9n4vzrl1panod3hx6pdq0wqkaqijo0',\n",
       " '0izooojkakutjyvvtcumsceordsjgg0tkxejt7vr0ny',\n",
       " '0izpd1k6pdzxcgbhdxkr4eboa2zephdz1kobykfmhvdohurbcvvn0ex__d6amae',\n",
       " '0j5ktf2bnpipcbgcajurq_02nykyqsj6wp392h',\n",
       " '0j5rc',\n",
       " '0j9se3bt340zfpslnoz3mfpbek',\n",
       " '0jcml7piht4197lwuhcwebph',\n",
       " '0jd8l4n',\n",
       " '0jfjf3helzdiztlleoesasbpj_m5jb4axyrn5fuhhthtrqywymuk2gtexinotqugkidnjxvmht6ecg9f',\n",
       " '0jfmnt8e11abje8qoekl9nbtpsvnleq1vb0vcdjxb6e',\n",
       " '0jhvy',\n",
       " '0jj7esidfmyzd66ivj4pablpariao1z6dh3b75k2bf8',\n",
       " '0jl1cn2grmcbzxcxceqacftyiuxzl4y5iwpk5ihfyk8',\n",
       " '0jopg2kuvcecbu46ml6tem1utajbwl1rr6hixdbobva',\n",
       " '0jvcmda5b9fyaigey1v7mifaqujtrlrxh80hmhzu6zi',\n",
       " '0jvskmn2ri0ec9xgky',\n",
       " '0jwvlmwmwmyssywrpoldgr1kkgucvqlylerqe9vg',\n",
       " '0jyrb22pzhurf6a4lixwron92d3xiw',\n",
       " '0jz6m5wuswc3rtyfuxyuf0qw41spzjd4axph4i7',\n",
       " '0k1narddcxyalyqwnixijd0e5wjd',\n",
       " '0k2gzaaq2ta0f1',\n",
       " '0k3jupliogzfks842odwfga26rwzk3sbndccebf5urm',\n",
       " '0k5r7muvknr4efqdkzqpy4gpddccn3bco58c64nqjci',\n",
       " '0k87ba',\n",
       " '0kahdgdl1k1zojrbk528njbpaxc2wcnf',\n",
       " '0kaijn',\n",
       " '0kblz6wdmks1bddqvcfsfw',\n",
       " '0kc9ecv2zc2zmasex0w9fib4thzerdtrsrikfn5vyty',\n",
       " '0kemaowg38erhejhgjw6',\n",
       " '0khlkfn9fbzzvbamtfpizkynvhsqpcfp5pn5uy2egwq',\n",
       " '0khrp5be40ellkfmlkqnggkpull9frek5z9',\n",
       " '0ki1uj2u9anvhkgjumu9h702fg01pvyqaay5ill74jpgteycwl4l4bwkto7imkgfcfo9_5bogm9yf8d1ai1xkhkdjk12frgx5c1xrk7r5ytbfxh79yxnzcbnvz3wdocbbf',\n",
       " '0kiijdlmd',\n",
       " '0kiycpsmqk0zhkfn0',\n",
       " '0kl23y0zb8vkiok7oncy77wdlrlvgutjipuxaf8sjxe',\n",
       " '0knh5y421ioyndkewuiuaoxvtemdcuenvtaodssajmi',\n",
       " '0kpwyivmndjy2jngb2g5oz3',\n",
       " '0ku1pn1fr9vtiagee8hvodgt27e1gutjxbhey5baawa',\n",
       " '0ku7y2wfxsecn__z7yi',\n",
       " '0kvmuq9wpk3b7r1yf9xqjozhnuhinwugvqrxkkpvsqg',\n",
       " '0kxkn25lwqkb8czlo3cqa2wjcxckywrh2xlvomq2iwq',\n",
       " '0l2xks67fxqgbf58or',\n",
       " '0l2xt3clsr6_emda43yc0e',\n",
       " '0l3zkwoxy',\n",
       " '0l5',\n",
       " '0l5ph0aeedlzfduut3',\n",
       " '0l8bkzwiolhlzx2s733n0u5wymqz4j0',\n",
       " '0l_1n_encup2pukvvo3xfqki2i',\n",
       " '0lcxnon4qfwdgyyngjbof52ohhixxxa8ko3l6odiqm8',\n",
       " '0lewifoel',\n",
       " '0lfken65lufeq3pk8ktyyfsoqpea6auzbqetruqugh0',\n",
       " '0lghycltb72bsntvvx3oyzozw9oareldtsfty6p',\n",
       " '0lhz',\n",
       " '0liotpm',\n",
       " '0lkmpbfjpedyouegpk',\n",
       " '0lo7klb95gk4ylugldw7lpufte3wur5n',\n",
       " '0lps_rocygtz_',\n",
       " '0lpxbzwam7faxizwv8yex3wjv54rzyokebqt5hzjlkw',\n",
       " '0lsokkul3yeikkwtxi7krgi2lu0k_cvtmyrrys2jdsbntqffmepv8lb7',\n",
       " '0lui24ec47hecbnrk_ol4gkpaarczdm_bstjbwkymntpqweruo7t24jpn8cs7dvswkiahnfthgqqcukruxmz4jhcfcmjoehvkurvg_8iphxfjlwstumnpuqkwk0897s3mmo0pfzydfeftq',\n",
       " '0m',\n",
       " '0m0hfg1kba30pmdgxm0fttv2tzkwmiqntftp2rmi',\n",
       " '0m3oxjqd',\n",
       " '0m3yb',\n",
       " '0mfi4skmrzzgpszm5dlrdbqa6mlov5cqiwmdag1nork',\n",
       " '0mgd4t48xb2smk2qu0bnlmtm20yx9iv7uum18rtqwyvrqtsupoqq9xukaau',\n",
       " '0mgh0ycputdmxx4gkp3l3fiunfrckxx1inl0whoq',\n",
       " '0mgiwgpoaard7vuaqk8lmdan5bq0fyxrj8l1mszc9wg',\n",
       " '0miyxwzptoqi5ascil9wmldsz4wqrsfja',\n",
       " '0mj',\n",
       " '0mmpuuazeuyyuqyf2p9sxaegcky0',\n",
       " '0molo4mra4gpstt0b9zkbq',\n",
       " '0mrobwgowmsrta4ccnsfiu0w8f4kd08ojpq6_i8fyoiq1med1rz5nv',\n",
       " '0mtblxgarn5svw7omipjxkgvcrgtxed7qigkh',\n",
       " '0muiakdufadr1btwjrlz5t21ybgitg4a_se2ouao',\n",
       " '0muv8dqtwqcqjpy7de4orrwxuqcexnu2y2b0qu4hhs0',\n",
       " '0mxgc56idsdqku3anhrgdhq6oxdminaxgueycrqrwy9yewvry1cu9e3z7dpakwqh44bydpe3hqmykotlowikn94glkq8df9oee25byajzwjqjlb8atcbtsfr10os52fp2s7l4gumfyf',\n",
       " '0mxgc56idsdqku3anhrgdhq6oxdminaxgueycrqrwy9yewvry1cu9e3z7dpakwqh44bydpe3hqmykotlowikn94glkq8df9oee25byajzwjqjlb8atcbtsfr10os52fp2s7l4kr1ce1aao5x1krvzdhqcv4yd7vxfdwauc6edfihowlvfminat',\n",
       " '0my9webp7tjnge2fseq2sjxupr2wiafd6tknwdukicqcjfxgegjfemzhaqo5yviiymtjjly22ar7jcmvonef1oeeac5jgrv5ayna8ytxtjd883x0r_53m3uz_idav9iuffcqrn6zn19cd1xk1g9pnby3wngxsinrt4lejl6kwfgkpw',\n",
       " '0mym7piexil1ccvvilqieciehofjh6qkhndp2nqu7cm',\n",
       " '0n4fsiogauo4manvd3zpqobukttghptpnz9uqtfm6lo',\n",
       " '0n8togu_ugflzxhabm5u3yoikdscs_otg8yjhliqzqeb9sokjn0px6jai4v',\n",
       " '0nbgxl5c9uryla1q',\n",
       " '0nc0wpjm7dffpei1baqoajkavpguo6ag099gmofwpfkvcd_lto4w',\n",
       " '0ndu3s',\n",
       " '0nekel',\n",
       " '0nez4sq',\n",
       " '0nidwq7ah4gwtvspfdislaae1gpggtfizwfhj7te93u',\n",
       " '0nit7auarwr7rzvlzmz9eqkesdvdt670zhdblofa9zu',\n",
       " '0nkzloaatvtrfjm7cl_0brc',\n",
       " '0nnndnoyijfd6tvdxza4ju8ojgffq1r3r3gbxxp4s2w',\n",
       " '0npvx4io64ralqq4',\n",
       " '0nq71wlvvicwmkgkqbdc9rsyeptgkwayknyaqihohauakzfh3vlanfwrvebpkbdl33nfcefflyshdqy20bh6g9p465o5rrloqibixsar2nw87vrshjomqyxth_x_ynvz43d2sd9n6fiphcypoh',\n",
       " '0nqn0',\n",
       " '0nsapnca8ui43vthyj',\n",
       " '0nvftiehzyd',\n",
       " '0o',\n",
       " '0o0kroy9p1zno8fan8w7cjpdjctxdgpkxw9m7b6i68i',\n",
       " '0o1xzl3q3s',\n",
       " '0o98yrgil1wmqb',\n",
       " '0ocaqb8nkqiyar0njgq9djny9hm_iteg4opu4gqwzxdlwxighyn2xsszgqsxpbviz7tcsczt5fz0hr0bki4n',\n",
       " '0ocq6nyxwniufqzfsa3pas2gquzvevmzve1gxrrrsw0',\n",
       " '0ofyzxhk95ayoaw6r8s1a3fiay1p4hkkewpnaegvleg',\n",
       " '0oggym0qdplxo67wvwmtbrswcgw7hjbwyzrr9gdtntw1j',\n",
       " '0ogsoc7qyuik',\n",
       " '0oj',\n",
       " '0okx7ct5ew6ukhej2dxnkmamqmiidfxirfyiojzzce0',\n",
       " '0okxscnsb82wetdk',\n",
       " '0ol9cikol8yrlj72ashplrlyk71qpirfn5amzz4x0ks',\n",
       " '0omaphz',\n",
       " '0ood994waf0s9fhsxa9tvro1qn4r5',\n",
       " '0op1o6da1z',\n",
       " '0oqby3kvxg8zhsetzjxfwpgwarfw8vzvywkdg5iedh_amxy7nd_1z8i0vh',\n",
       " '0oqby3kvxg8zhsetzjxfwpgwarfw8vzvywkdg5iedh_amxy7nd_1z93xxmi2oltu',\n",
       " '0oqckz86zwcr9xfewe3e5r9s',\n",
       " '0oqvejhhlmayuxd0rpoexdgv7yku8maoqjryynlegka',\n",
       " '0oqyrev4fgmdfynkf0mw',\n",
       " '0oukfxakbjsnomesqf16kytgtdap',\n",
       " '0owdmgedgtyefohnxvwzvps9f9e76p6h',\n",
       " '0ozcmj6ubzl',\n",
       " '0ozomaznoiwwqtg9j3vjnnk8j0wmdrnuagwnuqsghnm',\n",
       " '0p',\n",
       " '0p2s5muxvmbcuqes0hsf9ogmzrryrqpf3ks4nabjn2zlnw06btt0gjjpvf4ankfzmyx6ym4',\n",
       " '0pewev8jjptujw89tjbrdrzdvjrmc84sri4mwyvnx3a',\n",
       " '0pfmcoe17esnsv6qpnxswdujj1b0nim5omjohvpnjl7yzbll',\n",
       " '0pgfpz6ay',\n",
       " '0pgzh5v5ng8bc2622b4cstd206',\n",
       " '0piy',\n",
       " '0pjvvzphlcayqc',\n",
       " '0pkuwto7bxkbmntzcudnycsqgc4juutaqebxee6wtyrzfhfe7uvwwrv945czjuq_sh9prtfzxo0kntz8ppz23cfybwg7za',\n",
       " '0plnzhhluafom0cw6syi7zhyae4pof0kbleai',\n",
       " '0pqnuwlbnzdsjfh80xza9ztuejoefkthli5kbiqn8iu',\n",
       " '0prh_lmxwter00twmqpa9ez3xyef3kl17atggjv',\n",
       " '0pubelv8v5olzbl',\n",
       " '0px',\n",
       " '0pxjem5uvx3gdbux41urdz1ypk9lindmql8',\n",
       " '0py',\n",
       " '0pyzmgov4ybxwmrygsaahzfbyurcw3dsbchmskuqzge',\n",
       " '0q',\n",
       " '0q0r12f43bgnvbdxg8pir6rjawmeqd0pzspqxce',\n",
       " '0q12lmmhmi0cybazubn_uldhafsfhyfpavwgqvd3o2dh7sd3zas0nvlnzedtcmed',\n",
       " '0q1zqr17ybjz2fld01iu',\n",
       " '0q4ak5sv',\n",
       " '0q4evvnksck',\n",
       " '0q8v4wkc',\n",
       " '0q9hsbfbxzh5cglic2q69wdwglxjaogmcmx1kx009ea',\n",
       " '0qaqnkbqwb4mq8g0zxf921gaeisjgiub6a0fkerutxq',\n",
       " '0qdzxx5hq5qs',\n",
       " '0qgh9ehzwmx7sdm0jm0xwjrvr5miba1m9oi1hpddwve4xo_',\n",
       " '0qgh9ehzwmx7sdm0jm0xwjrvr5miba1m9oi1hpddwvuv9vmy2wvag0bnedksqdqnkqhvokr6f_cynuslieb2sshdtwpsuu8nsnq',\n",
       " '0qgh9ehzwmx7sdm0jm0xwjrvr5miba1m9oi1hpddwvyrdjefxlq39',\n",
       " '0qgqbo3dgq8dzplwlusaderm9idkqlhmdy0olnvm6zm',\n",
       " '0qh4bnsy',\n",
       " '0qjaqoehexmjt0o2q8v3bnrn6vzw45spz1_d7tkesrqvbpdb1tfhgqwyksfo41d0q6s8hki4ux6rtgszxfa_msqk6wko43o9lter5tginnqekmsimq6saeqxagn5niwec6bduhr2s',\n",
       " '0qnethj9xbt0npvjccwkhepeyayeovx9lltepvxhlb2wynk0zsfcmcnis2edtm5sa65nsenin9afjv6m',\n",
       " '0qouywuku7u9mhjrfup4nz1cuixlsktmune1ymfhibu',\n",
       " '0qug0p1cdpeoldtcnqpazk_x1ouwtgsomszmsff',\n",
       " '0qumng0sjmvkhmkjbbf1kcyoxm',\n",
       " '0quoun_6cknnzuqzu4mv543k3kt_osp3inbfqzbgupc',\n",
       " '0qxkhs4ygldzwhzbmi',\n",
       " '0r0jpw8dx37xhanb8fbmtqgc46oil0gccekmztz8dy_upi8zcykybyhcptuxxojdl1y5bzzq8ruzq6vndwidgpg3hxxw_zmk0ze1ab0gt1mw6jtgylw0p',\n",
       " '0r4m0wjv3m6vzzzmdfnlgyu4bo7ul8kqm8keotp8xpdyytzrfyglvilsr1_zsotobaf8elxlm2leejmtc3xzd8nonyuqp256mhvwn7tg',\n",
       " '0raf',\n",
       " '0rftyxj1vlpib6c',\n",
       " '0rgm0xbxe7gjns0',\n",
       " '0rgmskyji0uwf44',\n",
       " '0rhntkosffzasbmdcjyxnt0zrxsnkok8whaysi7tqvo',\n",
       " '0rivjc5vyrmfov1vgbpgvlpaj01koepfixt39uphou8hnbyzmzeqtyty60am09oj',\n",
       " '0rjr52ojxmrbkz9l0ftc0q8ikodnrmbshjcrlh3j8rs',\n",
       " '0rkez0vb98jb8cw3jkw',\n",
       " '0rpnwee1u22owem4cjnkpxz0ycwrzdv3pzoy9ew6hmy',\n",
       " '0rssr9ulsctlrzpco7bptaddaf6t1cqiz5l6',\n",
       " '0rv0ktvlhqy',\n",
       " '0rysazwcrzvupp7kfsotjmsfknrisddt6odfcldjp',\n",
       " '0rzakpxrjywzqxjuqmgsymc8',\n",
       " '0s0iwbd6co454mopuki2nw7ih5m2lbspudpy6wdv0ks',\n",
       " '0s3emcjobu13p8tt5r95ttykwyof',\n",
       " '0sa872ei1986qd6xtbczbvb3lixz9je5xabo59k',\n",
       " '0sa89qm4emulnhk9g09m',\n",
       " '0save6ma55wkpzzkvkp6sjuug1mn03ydeuukuszyt1a',\n",
       " '0sbm5570oood',\n",
       " '0scaecnvxliw_xyuak3cepp1wcwrlxukudm',\n",
       " '0sedphxdydzmtitvmujtjfik',\n",
       " '0sefdh1iu',\n",
       " '0sel8drb21g7xjbggufixqjmdwpsrzqa4jmtywxzmhq',\n",
       " '0sf4eopz6tz7ymcr7chpea1tv3h2ciu2blu9zjlo8em',\n",
       " '0sfp4gafse6rqnwclvgq6n0w4skdndaxlwjn6il2pom',\n",
       " '0sgogmgxcgqjof7c7znf4p6gli',\n",
       " '0siafn56',\n",
       " '0siaiuj0cir1u',\n",
       " '0siat1ibxjyuylyvxik4hqxqkkky2odqhfb5dutl8ds',\n",
       " '0sj4bcdip3bt',\n",
       " '0sjo4scr4hwietil5tamenfwzvxyuevo3u67jt9qlyrbqzcraym6jbdrigb6w3hsfknst_hncwke0v2uol4zkgcbsrgpganbivrbwveck',\n",
       " '0skcxdztvjp2wmbud5u0t0xtate6xastg9qtmo3wjvm',\n",
       " '0sl4l4',\n",
       " '0sqzspttkqflqddhrpu8a45fmgpvq0qillodrjqwjxk',\n",
       " '0stpgefqvozzwrtukahc3m6crbtlfhogcghmpw0bvuqcsibjuynbs8shu0vhbdss6y',\n",
       " '0suc',\n",
       " '0svtfakgfzafgfpk65pnrhk7zj6577tpzjw',\n",
       " '0sx0brkeapxfzkj9mz0ililqohnesuzeimf9j2mba2k',\n",
       " '0szfrxcwv0yiixao',\n",
       " '0t',\n",
       " '0t1_zoyk8_i2wzgf5hljc_0wn20t',\n",
       " '0t2',\n",
       " '0t2kfbbdvnkjcr37x0wyoruq9tbug8ifovjrhdk2odm',\n",
       " '0t7vdx50doliierqrgybikxcihjncvhyzqo',\n",
       " '0ta7cf6w6pof1p0ktwbgtc0xbxz4kt_x7o6mrdv4zgxn1h7swf',\n",
       " '0ta7cf6w6pof1p3',\n",
       " '0ta7cf6w6pof1p4myfkoktltlxbojh3c5q4qtdvak1tr5xro2bxso5xidb7xf1fxy_1omb7ywe1t9l',\n",
       " '0ta7cf6w6pof1p6cbdjt0vsqqok',\n",
       " '0ta7cf6w6pof1p6w6lzc2sdabttsuo50m65qegl4ild1vjn7oubuzhsxredm',\n",
       " '0ta7cf6w6pof1p6w6lzc2sdayzmajbbwb568jp',\n",
       " '0ta7cf6w6pof1p89',\n",
       " '0ta7cf6w6pof1p_9eu_o91hmc',\n",
       " '0ta7cf6w6pof1p__m97yse0hy_mbsinqfzviau2i2z6em_8liykuo8u4spaiszeta9atiilvkmd24t6jfo5d',\n",
       " '0ta7cf6w6pof1p_kq_0xfnhd1agk4',\n",
       " '0ta7cf6w6pof1p_uregc_by36tnzvksk3ogxocaafpe8y30b3qgabczibveqcw',\n",
       " '0ta7cf6w6pof1paq6auoidpgcuhn6irmxxrk7bpg0kobpf92lew899c4y5w4bth7bixdyprtw',\n",
       " '0ta7cf6w6pof1pcsr9hyd2lnfuchulf7enhwgmturo_i7vkrymrn4vl9oawdskzwzsxvyxuvfqaulw__t2wsjcvp6nmjuqojswmerjcqtd9r2cxigxxusl7zmdm3nps87xkfkhkxggcpezbmqxbyidwh4s3ejs0zdtjiwaseyzrlrfoum9yu3jiwdtizmodbw2lt3ue1pglb5h79qvaky0lgf5orz8ky2',\n",
       " '0ta7cf6w6pof1pcsr9hyd2lnfuchulf7enhwgmturo_i7vkrymrn4vl9oawdskzwzsxvyxuvfqaulw__t2wsjcvp6nmjuqojswmyzx4rxdysoyawqzdhig_euiwjn7nsilmnnevzclbumg3ljloxxujlfdv9ezz0qtjy4dgoo06ikfxf15cthdac80uefzacmslcikah2rflgqfsuxb',\n",
       " '0ta7cf6w6pof1pdaytwt4bhxw49hxrsxi0o7trg5nimr9mqchzqldfi2kcw3dtgbrdh6atoeavfubjzku',\n",
       " '0ta7cf6w6pof1pffaq93xlovqidodkpu1bb5',\n",
       " '0ta7cf6w6pof1pfrvzv4',\n",
       " '0ta7cf6w6pof1pfvgype6yjisaqmmwdnuyczekxh0haxwsn3xb0uyciq10hwgob4irzc6vod9irv4zrguunyv01yjv_nwtpuq7al3yvneiqxzb0l6gatx7zbe4y_seqwe',\n",
       " '0ta7cf6w6pof1ph33bsmdycr1lfo_hij7eaiwhokep1toidmjjya64egwftln23maxrkt1jguqhq5w3z',\n",
       " '0ta7cf6w6pof1phid5geq70wwbgqihdf',\n",
       " '0ta7cf6w6pof1pj4bk87lm7ka6coav2edmkzg4sxsyu',\n",
       " '0ta7cf6w6pof1pj4bk87lm7kaom7zwlrrms0t7tmbfgd36zesubfybtabzithwiwtcs6bic6hdhvikpk9abuirvbhdljsfoyqc_ncufjsuuqvsbhgvcnh8rhrlc0sjgis5yyxr4uodr0tfmzbulhudtlhsrpzgm4dapnlnrrfohbemogqkenj0opbpr8odg',\n",
       " '0ta7cf6w6pof1pj4bk87lm7kcnizyzszxzt51v1',\n",
       " '0ta7cf6w6pof1pl3sd_dy0mvkyvofyk',\n",
       " '0ta7cf6w6pof1pmo4pplw8flq8wnvoibjbaeojzhzg',\n",
       " '0ta7cf6w6pof1pnfmwgkudfztzyyjasfqjnjjsxvbffmr9mikx7batihatmrjjy3ypek3dtjwyudftpdpon2_fl2sw2xw8jgxa38uhiblxbxp1y46uumue0zdfpb1ocj1pjkwg9nyqqccgfkhpm2s6r9fse2iutukdi34atys9b4enwx3eburcdrbo4xg_r8jqq3zmen38ggexqpftldssrfb9r4sb3cyoludnwyaf4ewrqifebz065hsy2gjydym9z8vzecjvuyclmjumjl47gtlbysbg9tnk01hvlo',\n",
       " '0ta7cf6w6pof1pnfmwgkudfztzyyjasfqjnjjsxvbffmr9mikx7batihatmrjjy3ypek3dtjwyudftpdpon2_fl2sw2xw8jgxa38uhiblxbxp1y46uumue0zdfpb1ocj1pjkwg9nyqqccgfkhpm2s6r9fse2iutukdi34atys9b4enwx3eburcdrbo4xg_r8jqq3zmen38ggexqpftldssrfyjnses9tf348r1reydple',\n",
       " '0ta7cf6w6pof1pnfmwgkudfztzyyjasfqjnjjsxvbffmr9mikx7batihatmrjjy3ypek3dtjwyudftpdpon2_fl2sw2xw8jgxa38uhiblxbxp1y46uumue0zdfpb1ocj1pjkwg9nyqqccgfkhpm2s6r9fse2iutukdi34atys9b4enwx3eburcdrbo4xg_r8jqq3zmen38ggexqpftldssrfyotrbymrlx7e8kkoy0',\n",
       " '0ta7cf6w6pof1pnfmwgkudfztzyyjasfqjnjjsxvbffmr9mikx7batihykmz2mvtxvtiiqwkb6ubv53_ya1nusckkmpfpk9e8yuma_sfc1np5bi9wgy7d5yxzznptujpwedx5jyxij',\n",
       " '0ta7cf6w6pof1po2tpon1ydmhqh6tktfvkqurkbjh8gnjyerufg4h',\n",
       " '0ta7cf6w6pof1poloi1tq8ibcy0dcic88g5pjkabgp_zn7dvnwnqjdgbyhdwetzetnj4xocqh6ift2lhjffisurknslgoyfug4ryjpbznkschryojwakx4i1rpibcdya8jo4t8jrolklinbwvhb9tj9cnvrkdshtq8wv01jxnwnbdctjubbhqfvzjxcsxcddqrpxtbkjpgln5wo94_ugtufdfkufohroyk4hfc3x0wqcdetxptznvyrhb',\n",
       " '0ta7cf6w6pof1pqmr5dzj0c7_pklio_nyd4i0ctnh4qili2kkjg',\n",
       " '0ta7cf6w6pof1pri7fqgzpokhttfks3mycad8__r4yjkcnhajxbzn_xyfh0d0b2il92g',\n",
       " '0ta7cf6w6pof1pt8yfyqhhw_6hop564rl1prcipekgtqra9r51zxnwe9ocrwc2few9gxodrtfiha1e4bznwmtjxsshpjumd4i5ivirhugwazaqlxe0rdgf2198ae5vci2jt1kbz4eqemzrlsln',\n",
       " '0ta7cf6w6pof1ptdrs3vy2pbeg22fi46fugpszk6vy0kp4_ptlqvdxd8ngxssfwmo8qa_fchnhpf1sccrw',\n",
       " '0ta7cf6w6pof1pto_fukr2ecw8kabjbtw',\n",
       " '0ta7cf6w6pof1puraui03ixl_a5xscxwpy7thj9wberbypg2cot3',\n",
       " '0ta7cf6w6pof1purqtk9l9sws7fadodkbbno6ilvvvicyz9_myzsvlahr2d0q5qcbyohqekkoiooxo5kq8yr6rvz2fo',\n",
       " '0ta7cf6w6pof1pvmn3lkqbiyqgd28hh4qsgqpitrmgb',\n",
       " '0ta7cf6w6pof1pvtwvwzinhfdb',\n",
       " '0ta7cf6w6pof1pvyq4ibwew2fhaq7opputybpaaqvubflilexm5_qkwfwvy2tqa85ggx5muqy4pjlv1z_redxb5oli5q7_km4opr6atjvgyxupczgmrccjjwlmbkrapqfphomnca5zwnamyipah',\n",
       " '0ta7cf6w6pof1pw6jwszn9pdmvzxqadxjkpqcqukpbb1vwdswx',\n",
       " '0ta7cf6w6pof1pwxl0rewxwzqnc5578bozich3hsd2qgjhoabyqfkkrm',\n",
       " '0tb4vjhikcqirql',\n",
       " '0tcsvzyan1lzpwdj8omftao36iq6olnrr7zddtkuapg',\n",
       " '0tfgkhmgk0y7dg52mk1neldxrgrrucapxlaroaq1l9rlls2mtaeqf579c6b',\n",
       " '0tfwbdrtonzdi35earmfsw5qlkacsdrscmvcn6s6yxiqir8vkebigdsrkzqdv1qfx3epkwna1qorvalq_b5',\n",
       " '0tgyvwwd5k',\n",
       " '0tiqage0liruf55q7sjefe',\n",
       " '0trfgg27mzz72y4kl7lrct4wvgwxthetxsfqnpt73fyeo54l',\n",
       " '0tt4yabl6nffok2wbxfv2xmkeaoxk2cylsepw3qoc',\n",
       " '0ttb0oeyy7nnjbvfjhrrhykzxtko_i7ev3whlig6m8pyxnnrpgvv6mqcb77hvynyczwh',\n",
       " '0ttr9jvyjrdygx',\n",
       " '0tvbzhi8mcikajp',\n",
       " '0tz4yeimbuzzdiipwdjpqekhhxsvthcjk7l',\n",
       " '0u1psbqekyuoylhzbrd81ldgfgkbstyjr4c',\n",
       " '0u2nyyr8gx2nxiehnfjks057k0slcbmehsc9zedabhu',\n",
       " '0u2xu',\n",
       " '0u3ojg2fvn8rfgk',\n",
       " '0u8cv7nbe87tdr1trelkqlsez2lecfpb4wvfnvydzhs',\n",
       " '0uffb1fivwjsscrgtbzo58bvlmgjyuxusbcpzetjmik',\n",
       " '0ufk9mwkdd',\n",
       " '0ufwm9fouskevjs0gcugkf6jmyvijco',\n",
       " '0uhtpocezrdtzc3040gguc9',\n",
       " '0uif',\n",
       " '0umhxaie',\n",
       " '0upz1j1cf1lfwqxsove',\n",
       " '0uqktxgfu63gdepifq02lxnoxu',\n",
       " '0uql_kjrog5mmufiyboftk3ca72kz8idgh2n2w3tfx1diwbkh9qh3q_bz',\n",
       " '0uqpwv8tjqyqgufmignfneowfbeuxzriljut9zcxumm',\n",
       " '0urk',\n",
       " '0uwuyu9iddivqzxamtd7d7bo5s6mkhghzizphcbwvucsltgthb6kzasghftccmfvkztiunktkng_yn1nxtine3sqotn6afv024z4yx5gs6y6qsr',\n",
       " '0ux',\n",
       " '0v7',\n",
       " '0v77zeh',\n",
       " '0v9wrfylremeufopprtembxw1sjsevzn6scot7lia0x_f6wszkkhyq',\n",
       " '0vaulhzevbjqqs5cjm9jcwrngo2oyag2w3f9d',\n",
       " '0vbu7nwj',\n",
       " '0ve9basluwubqofgiuekk7aahxs3aleegkqsijr5mrc',\n",
       " '0vgjwde82kvzrqvlxcx7zbwix8gbmufq4kfcc',\n",
       " '0visepwb_bgqdnwfw_5ovebcl71a5ixlzytqrcwmhr9tsy3chxy0ofvlhzz_rbufui9lep9_w3m6eg_eat2swywmsr0rvcyammp7hfnfrq2m',\n",
       " '0vj11pgq2armuecmr7em0bydm6onfzce9sxduzevyrs',\n",
       " '0vji7c1w9fyrzgrmfkfdajrza5xrrxtkhuwlrzkh1_mfmioxfsgkvx9uwjuy54',\n",
       " '0vjiykoklcf742t',\n",
       " '0vkaurp1iwzoilg',\n",
       " '0vkjgfvcwet5upt6un6btnzeo7cv0tvtltn',\n",
       " '0vlrys',\n",
       " '0vmrdfeqiebo1',\n",
       " '0vndbervhacgaj9cgxsn7fvugui1nzan13lygnssskfoolfxaznmgfd2otq_znlkblwibkeo0agjix5ufnlxzh',\n",
       " '0vp6',\n",
       " '0vqy3g0bqvlob9bcpib5p9udn0i043ljvg2ryati6sq0yhoc',\n",
       " '0vsjdcwvw5ig',\n",
       " '0vuwwuvh7hfhdbbxmg7krvcwage40bd6qih7_1_sczj8kimn2aiy66u1sic8ygpikgqhqb_zljcn3rnlklal3xr8',\n",
       " '0vuyrdksyuy47eh4n1lt3gli4au7x0vgety22v5',\n",
       " '0w0ickxingof6ezmth27yte',\n",
       " '0w2vsiogqrbgbopkmcdp',\n",
       " '0w3nwmmnlrmmt1qruklkco2s3muoyxxjsrjzusk9mre',\n",
       " '0w4wuz5ykjcfevxheejejw00sqk1evfpopo2uus8fcw',\n",
       " '0w8i3',\n",
       " '0wd1',\n",
       " '0we6',\n",
       " '0wmjderx1cv',\n",
       " '0wnhx9483b7a_1sprns0_lljvyukyxczfgj_whhhlkrrzcb3q7mmlp1volbw0g1tq05rvbo',\n",
       " '0wqssbiqbx9urdc56gaftfi',\n",
       " '0wrqgr5rmjxnobgmqvftkxyxyncuvw8d',\n",
       " '0wssirdzs3y0cwceqmpynqs',\n",
       " '0wt8tkj72o',\n",
       " '0ww3xbirs5bnkpv',\n",
       " '0wwdwj_3cio0l9mdffjqcuy7erww2gtz0figwzts',\n",
       " '0wwjhur8uxol',\n",
       " '0wx6',\n",
       " '0wxbyb6xdbzgxhsybpvgp5dn15wpeaz30ianhvj3ltqfbcdqn_760jnnpaddnq_xix1veush4u_dpmpayvj0h_wh567mia99i5vzljg3odigan_szpse4ce9crx5al2qec5dbxkvc4x3p0yrisqofhuq6mkxajmjftvhnlqtlpykxc5eccf_ex',\n",
       " '0x0wo0',\n",
       " ...]"
      ]
     },
     "execution_count": 77,
     "metadata": {},
     "output_type": "execute_result"
    }
   ],
   "source": [
    "vectorizer.get_feature_names()"
   ]
  },
  {
   "cell_type": "code",
   "execution_count": 78,
   "metadata": {},
   "outputs": [
    {
     "name": "stdout",
     "output_type": "stream",
     "text": [
      "[[0 0 0 ... 0 0 0]\n",
      " [0 0 0 ... 0 0 0]\n",
      " [0 0 0 ... 0 0 0]\n",
      " ...\n",
      " [0 0 0 ... 0 0 0]\n",
      " [0 0 0 ... 0 0 0]\n",
      " [1 0 0 ... 0 0 0]]\n"
     ]
    }
   ],
   "source": [
    "print(messages_bow.toarray())  "
   ]
  },
  {
   "cell_type": "code",
   "execution_count": 79,
   "metadata": {},
   "outputs": [
    {
     "data": {
      "text/plain": [
       "(1440, 134877)"
      ]
     },
     "execution_count": 79,
     "metadata": {},
     "output_type": "execute_result"
    }
   ],
   "source": [
    "#Get the shape of spamham_bow\n",
    "messages_bow.shape"
   ]
  },
  {
   "cell_type": "markdown",
   "metadata": {},
   "source": [
    "# Train and test data set splitting"
   ]
  },
  {
   "cell_type": "markdown",
   "metadata": {},
   "source": [
    "The following data partitioning have been suggested in several literatures in the field of Machine learning/ \n",
    "Pattern recognition:70% of the entire Dataset for training (Training data), hence in this work is going to be used the 70/30 ratio."
   ]
  },
  {
   "cell_type": "code",
   "execution_count": 115,
   "metadata": {},
   "outputs": [],
   "source": [
    "#Split data into 70% training & 30% testing data sets\n",
    "from sklearn.model_selection import train_test_split\n",
    "X_train, X_test, y_train, y_test = train_test_split(messages_bow, emails['category'], test_size = 0.30, random_state = 1)"
   ]
  },
  {
   "cell_type": "markdown",
   "metadata": {},
   "source": [
    "# Logistic Regression"
   ]
  },
  {
   "cell_type": "code",
   "execution_count": 172,
   "metadata": {},
   "outputs": [],
   "source": [
    "from sklearn.linear_model import LogisticRegression"
   ]
  },
  {
   "cell_type": "code",
   "execution_count": 173,
   "metadata": {},
   "outputs": [
    {
     "data": {
      "text/plain": [
       "LogisticRegression(C=0.001, class_weight=None, dual=False, fit_intercept=True,\n",
       "          intercept_scaling=1, max_iter=100, multi_class='warn',\n",
       "          n_jobs=None, penalty='l2', random_state=1, solver='liblinear',\n",
       "          tol=0.0001, verbose=0, warm_start=False)"
      ]
     },
     "execution_count": 173,
     "metadata": {},
     "output_type": "execute_result"
    }
   ],
   "source": [
    "logmodel = LogisticRegression(C=0.001, solver ='liblinear', random_state= 1)\n",
    "logmodel.fit(X_train,y_train)"
   ]
  },
  {
   "cell_type": "code",
   "execution_count": 175,
   "metadata": {},
   "outputs": [
    {
     "name": "stdout",
     "output_type": "stream",
     "text": [
      "              precision    recall  f1-score   support\n",
      "\n",
      "         ham       0.92      1.00      0.96       874\n",
      "        spam       0.94      0.44      0.60       134\n",
      "\n",
      "   micro avg       0.92      0.92      0.92      1008\n",
      "   macro avg       0.93      0.72      0.78      1008\n",
      "weighted avg       0.92      0.92      0.91      1008\n",
      "\n",
      "Confusion Matrix: \n",
      " [[870   4]\n",
      " [ 75  59]]\n",
      "\n",
      "Accuracy:  0.9216269841269841\n"
     ]
    }
   ],
   "source": [
    "#Evaluate the model on the training data set\n",
    "pred1 = logmodel.predict(X_train)\n",
    "print(classification_report(y_train ,pred1 ))\n",
    "print('Confusion Matrix: \\n',confusion_matrix(y_train,pred1))\n",
    "print()\n",
    "print('Accuracy: ', accuracy_score(y_train,pred1))"
   ]
  },
  {
   "cell_type": "code",
   "execution_count": 176,
   "metadata": {},
   "outputs": [
    {
     "name": "stdout",
     "output_type": "stream",
     "text": [
      "              precision    recall  f1-score   support\n",
      "\n",
      "         ham       0.91      0.99      0.95       389\n",
      "        spam       0.50      0.09      0.16        43\n",
      "\n",
      "   micro avg       0.90      0.90      0.90       432\n",
      "   macro avg       0.70      0.54      0.55       432\n",
      "weighted avg       0.87      0.90      0.87       432\n",
      "\n",
      "Confusion Matrix: \n",
      " [[385   4]\n",
      " [ 39   4]]\n",
      "\n",
      "Accuracy:  0.9004629629629629\n"
     ]
    }
   ],
   "source": [
    "#Evaluate the model on the test data set\n",
    "from sklearn.metrics import classification_report,confusion_matrix, accuracy_score\n",
    "pred2 = logmodel.predict(X_test)\n",
    "print(classification_report(y_test,pred2 ))\n",
    "print('Confusion Matrix: \\n', confusion_matrix(y_test,pred2))\n",
    "print()\n",
    "print('Accuracy: ', accuracy_score(y_test,pred2))"
   ]
  },
  {
   "cell_type": "code",
   "execution_count": 184,
   "metadata": {},
   "outputs": [
    {
     "data": {
      "text/plain": [
       "<AxesSubplot:xlabel='Predicted', ylabel='Actual'>"
      ]
     },
     "execution_count": 184,
     "metadata": {},
     "output_type": "execute_result"
    },
    {
     "data": {
      "image/png": "[encoded data removed]",
      "text/plain": [
       "<Figure size 432x288 with 2 Axes>"
      ]
     },
     "metadata": {
      "needs_background": "light"
     },
     "output_type": "display_data"
    }
   ],
   "source": [
    "conf_matrix1 = pd.crosstab(y_test, pred2, rownames=['Actual'], colnames=['Predicted'])\n",
    "sns.heatmap(conf_matrix1, annot=True)"
   ]
  },
  {
   "cell_type": "markdown",
   "metadata": {},
   "source": [
    "# Multinomial Naive Bayes Classifier"
   ]
  },
  {
   "cell_type": "code",
   "execution_count": 179,
   "metadata": {},
   "outputs": [],
   "source": [
    "from sklearn.naive_bayes import MultinomialNB"
   ]
  },
  {
   "cell_type": "code",
   "execution_count": 180,
   "metadata": {},
   "outputs": [
    {
     "data": {
      "text/plain": [
       "MultinomialNB(alpha=1.0, class_prior=None, fit_prior=True)"
      ]
     },
     "execution_count": 180,
     "metadata": {},
     "output_type": "execute_result"
    }
   ],
   "source": [
    "nbcl1 = MultinomialNB()\n",
    "nbcl1.fit(X_train, y_train)"
   ]
  },
  {
   "cell_type": "code",
   "execution_count": 182,
   "metadata": {},
   "outputs": [
    {
     "name": "stdout",
     "output_type": "stream",
     "text": [
      "              precision    recall  f1-score   support\n",
      "\n",
      "         ham       0.97      0.93      0.95       874\n",
      "        spam       0.63      0.78      0.70       134\n",
      "\n",
      "   micro avg       0.91      0.91      0.91      1008\n",
      "   macro avg       0.80      0.86      0.82      1008\n",
      "weighted avg       0.92      0.91      0.91      1008\n",
      "\n",
      "Confusion Matrix: \n",
      " [[813  61]\n",
      " [ 29 105]]\n",
      "\n",
      "Accuracy:  0.9107142857142857\n"
     ]
    }
   ],
   "source": [
    "#Evaluate the model on the training data set\n",
    "pred3 = nbcl1.predict(X_train)\n",
    "print(classification_report(y_train ,pred3 ))\n",
    "print('Confusion Matrix: \\n',confusion_matrix(y_train,pred3))\n",
    "print()\n",
    "print('Accuracy: ', accuracy_score(y_train,pred3))"
   ]
  },
  {
   "cell_type": "code",
   "execution_count": 183,
   "metadata": {},
   "outputs": [
    {
     "name": "stdout",
     "output_type": "stream",
     "text": [
      "              precision    recall  f1-score   support\n",
      "\n",
      "         ham       0.93      0.76      0.84       389\n",
      "        spam       0.18      0.49      0.27        43\n",
      "\n",
      "   micro avg       0.73      0.73      0.73       432\n",
      "   macro avg       0.56      0.62      0.55       432\n",
      "weighted avg       0.86      0.73      0.78       432\n",
      "\n",
      "Confusion Matrix: \n",
      " [[296  93]\n",
      " [ 22  21]]\n",
      "\n",
      "Accuracy:  0.7337962962962963\n"
     ]
    }
   ],
   "source": [
    "#Evaluate the model on the test data set\n",
    "pred4 = nbcl1.predict(X_test)\n",
    "print(classification_report(y_test ,pred4))\n",
    "print('Confusion Matrix: \\n', confusion_matrix(y_test,pred4))\n",
    "print()\n",
    "print('Accuracy: ', accuracy_score(y_test,pred4))"
   ]
  },
  {
   "cell_type": "code",
   "execution_count": 185,
   "metadata": {},
   "outputs": [
    {
     "data": {
      "text/plain": [
       "<AxesSubplot:xlabel='Predicted', ylabel='Actual'>"
      ]
     },
     "execution_count": 185,
     "metadata": {},
     "output_type": "execute_result"
    },
    {
     "data": {
      "image/png": "[encoded data removed]",
      "text/plain": [
       "<Figure size 432x288 with 2 Axes>"
      ]
     },
     "metadata": {
      "needs_background": "light"
     },
     "output_type": "display_data"
    }
   ],
   "source": [
    "conf_matrix2 = pd.crosstab(y_test, pred4, rownames=['Actual'], colnames=['Predicted'])\n",
    "sns.heatmap(conf_matrix2, annot=True)"
   ]
  },
  {
   "cell_type": "markdown",
   "metadata": {},
   "source": [
    "# AdaBoost Classifier"
   ]
  },
  {
   "cell_type": "code",
   "execution_count": 186,
   "metadata": {},
   "outputs": [],
   "source": [
    "from sklearn.ensemble import AdaBoostClassifier"
   ]
  },
  {
   "cell_type": "code",
   "execution_count": 187,
   "metadata": {},
   "outputs": [
    {
     "data": {
      "text/plain": [
       "AdaBoostClassifier(algorithm='SAMME.R', base_estimator=None, learning_rate=1,\n",
       "          n_estimators=50, random_state=1)"
      ]
     },
     "execution_count": 187,
     "metadata": {},
     "output_type": "execute_result"
    }
   ],
   "source": [
    "abc = AdaBoostClassifier(n_estimators=50, random_state=1, learning_rate =1)\n",
    "abc.fit(X_train,y_train)"
   ]
  },
  {
   "cell_type": "code",
   "execution_count": 188,
   "metadata": {},
   "outputs": [
    {
     "name": "stdout",
     "output_type": "stream",
     "text": [
      "              precision    recall  f1-score   support\n",
      "\n",
      "         ham       0.95      0.99      0.97       874\n",
      "        spam       0.88      0.63      0.73       134\n",
      "\n",
      "   micro avg       0.94      0.94      0.94      1008\n",
      "   macro avg       0.91      0.81      0.85      1008\n",
      "weighted avg       0.94      0.94      0.93      1008\n",
      "\n",
      "Confusion Matrix: \n",
      " [[862  12]\n",
      " [ 50  84]]\n",
      "\n",
      "Accuracy:  0.9384920634920635\n"
     ]
    }
   ],
   "source": [
    "#Evaluate the model on the training data set\n",
    "pred5 = abc.predict(X_train)\n",
    "print(classification_report(y_train ,pred5 ))\n",
    "print('Confusion Matrix: \\n',confusion_matrix(y_train,pred5))\n",
    "print()\n",
    "print('Accuracy: ', accuracy_score(y_train,pred5))"
   ]
  },
  {
   "cell_type": "code",
   "execution_count": 189,
   "metadata": {},
   "outputs": [
    {
     "name": "stdout",
     "output_type": "stream",
     "text": [
      "              precision    recall  f1-score   support\n",
      "\n",
      "         ham       0.92      0.90      0.91       389\n",
      "        spam       0.27      0.33      0.29        43\n",
      "\n",
      "   micro avg       0.84      0.84      0.84       432\n",
      "   macro avg       0.60      0.61      0.60       432\n",
      "weighted avg       0.86      0.84      0.85       432\n",
      "\n",
      "Confusion Matrix: \n",
      " [[351  38]\n",
      " [ 29  14]]\n",
      "\n",
      "Accuracy:  0.8449074074074074\n"
     ]
    }
   ],
   "source": [
    "#Evaluate the model on the test data set\n",
    "pred6 = abc.predict(X_test)\n",
    "print(classification_report(y_test,pred6))\n",
    "print('Confusion Matrix: \\n', confusion_matrix(y_test,pred6))\n",
    "print()\n",
    "print('Accuracy: ', accuracy_score(y_test,pred6))"
   ]
  },
  {
   "cell_type": "code",
   "execution_count": 190,
   "metadata": {},
   "outputs": [
    {
     "data": {
      "text/plain": [
       "<AxesSubplot:xlabel='Predicted', ylabel='Actual'>"
      ]
     },
     "execution_count": 190,
     "metadata": {},
     "output_type": "execute_result"
    },
    {
     "data": {
      "image/png": "[encoded data removed]",
      "text/plain": [
       "<Figure size 432x288 with 2 Axes>"
      ]
     },
     "metadata": {
      "needs_background": "light"
     },
     "output_type": "display_data"
    }
   ],
   "source": [
    "conf_matrix3 = pd.crosstab(y_test, pred6, rownames=['Actual'], colnames=['Predicted'])\n",
    "sns.heatmap(conf_matrix3, annot=True)"
   ]
  },
  {
   "cell_type": "markdown",
   "metadata": {},
   "source": [
    "#  Adaboost with Naive Bayes"
   ]
  },
  {
   "cell_type": "code",
   "execution_count": 191,
   "metadata": {},
   "outputs": [],
   "source": [
    "#Create a naive bayes classifier \n",
    "nbcl2 = MultinomialNB()\n",
    "\n",
    "# Create adaboost classifer object\n",
    "abc1 = AdaBoostClassifier(n_estimators=50, base_estimator= nbcl2,learning_rate=1)\n",
    "\n",
    "# Train Adaboost Classifer\n",
    "model = abc1.fit(X_train, y_train)\n"
   ]
  },
  {
   "cell_type": "code",
   "execution_count": 192,
   "metadata": {},
   "outputs": [
    {
     "name": "stdout",
     "output_type": "stream",
     "text": [
      "              precision    recall  f1-score   support\n",
      "\n",
      "         ham       0.87      0.92      0.89       874\n",
      "        spam       0.15      0.10      0.12       134\n",
      "\n",
      "   micro avg       0.81      0.81      0.81      1008\n",
      "   macro avg       0.51      0.51      0.50      1008\n",
      "weighted avg       0.77      0.81      0.79      1008\n",
      "\n",
      "Confusion Matrix: \n",
      " [[800  74]\n",
      " [121  13]]\n",
      "\n",
      "Accuracy:  0.8065476190476191\n"
     ]
    }
   ],
   "source": [
    "#Evaluate the model on the train data set\n",
    "pred7 = abc1.predict(X_train)\n",
    "print(classification_report(y_train,pred7))\n",
    "print('Confusion Matrix: \\n', confusion_matrix(y_train,pred7))\n",
    "print()\n",
    "print('Accuracy: ', accuracy_score(y_train,pred7))"
   ]
  },
  {
   "cell_type": "code",
   "execution_count": 193,
   "metadata": {},
   "outputs": [
    {
     "name": "stdout",
     "output_type": "stream",
     "text": [
      "              precision    recall  f1-score   support\n",
      "\n",
      "         ham       0.90      0.89      0.89       389\n",
      "        spam       0.10      0.12      0.11        43\n",
      "\n",
      "   micro avg       0.81      0.81      0.81       432\n",
      "   macro avg       0.50      0.50      0.50       432\n",
      "weighted avg       0.82      0.81      0.82       432\n",
      "\n",
      "Confusion Matrix: \n",
      " [[345  44]\n",
      " [ 38   5]]\n",
      "\n",
      "Accuracy:  0.8101851851851852\n"
     ]
    }
   ],
   "source": [
    "#Evaluate the model on the test data set\n",
    "pred8 = abc1.predict(X_test)\n",
    "print(classification_report(y_test,pred8))\n",
    "print('Confusion Matrix: \\n', confusion_matrix(y_test,pred8))\n",
    "print()\n",
    "print('Accuracy: ', accuracy_score(y_test,pred8))"
   ]
  },
  {
   "cell_type": "code",
   "execution_count": 194,
   "metadata": {},
   "outputs": [
    {
     "data": {
      "text/plain": [
       "<AxesSubplot:xlabel='Predicted', ylabel='Actual'>"
      ]
     },
     "execution_count": 194,
     "metadata": {},
     "output_type": "execute_result"
    },
    {
     "data": {
      "image/png": "[encoded data removed]",
      "text/plain": [
       "<Figure size 432x288 with 2 Axes>"
      ]
     },
     "metadata": {
      "needs_background": "light"
     },
     "output_type": "display_data"
    }
   ],
   "source": [
    "conf_matrix4 = pd.crosstab(y_test, pred8, rownames=['Actual'], colnames=['Predicted'])\n",
    "sns.heatmap(conf_matrix4, annot=True)"
   ]
  },
  {
   "cell_type": "markdown",
   "metadata": {},
   "source": [
    "# Decision Tree  "
   ]
  },
  {
   "cell_type": "code",
   "execution_count": 196,
   "metadata": {},
   "outputs": [],
   "source": [
    "# Import Decision Tree Classifier\n",
    "from sklearn.tree import DecisionTreeClassifier "
   ]
  },
  {
   "cell_type": "code",
   "execution_count": 197,
   "metadata": {},
   "outputs": [],
   "source": [
    "# Create Decision Tree classifer object\n",
    "clf = DecisionTreeClassifier(criterion=\"entropy\", max_depth=3)\n",
    "\n",
    "# Train Decision Tree Classifer\n",
    "clf = clf.fit(X_train,y_train)\n"
   ]
  },
  {
   "cell_type": "code",
   "execution_count": 198,
   "metadata": {},
   "outputs": [
    {
     "name": "stdout",
     "output_type": "stream",
     "text": [
      "              precision    recall  f1-score   support\n",
      "\n",
      "         ham       0.92      0.95      0.93       874\n",
      "        spam       0.56      0.45      0.50       134\n",
      "\n",
      "   micro avg       0.88      0.88      0.88      1008\n",
      "   macro avg       0.74      0.70      0.71      1008\n",
      "weighted avg       0.87      0.88      0.87      1008\n",
      "\n",
      "Confusion Matrix: \n",
      " [[827  47]\n",
      " [ 74  60]]\n",
      "\n",
      "Accuracy:  0.8799603174603174\n"
     ]
    }
   ],
   "source": [
    "#Evaluate the model on the training data set\n",
    "pred9= clf.predict(X_train)\n",
    "print(classification_report(y_train ,pred9 ))\n",
    "print('Confusion Matrix: \\n',confusion_matrix(y_train,pred9))\n",
    "print()\n",
    "print('Accuracy: ', accuracy_score(y_train,pred9))"
   ]
  },
  {
   "cell_type": "code",
   "execution_count": 199,
   "metadata": {},
   "outputs": [
    {
     "name": "stdout",
     "output_type": "stream",
     "text": [
      "              precision    recall  f1-score   support\n",
      "\n",
      "         ham       0.92      0.92      0.92       389\n",
      "        spam       0.30      0.33      0.31        43\n",
      "\n",
      "   micro avg       0.86      0.86      0.86       432\n",
      "   macro avg       0.61      0.62      0.62       432\n",
      "weighted avg       0.86      0.86      0.86       432\n",
      "\n",
      "Confusion Matrix: \n",
      " [[356  33]\n",
      " [ 29  14]]\n",
      "\n",
      "Accuracy:  0.8564814814814815\n"
     ]
    }
   ],
   "source": [
    "from sklearn.metrics import classification_report,confusion_matrix, accuracy_score\n",
    "pred10= clf.predict(X_test)\n",
    "print(classification_report(y_test,pred10 ))\n",
    "print('Confusion Matrix: \\n', confusion_matrix(y_test,pred10))\n",
    "print()\n",
    "print('Accuracy: ', accuracy_score(y_test,pred10))"
   ]
  },
  {
   "cell_type": "code",
   "execution_count": 218,
   "metadata": {},
   "outputs": [
    {
     "data": {
      "text/plain": [
       "<AxesSubplot:xlabel='Predicted', ylabel='Actual'>"
      ]
     },
     "execution_count": 218,
     "metadata": {},
     "output_type": "execute_result"
    },
    {
     "data": {
      "image/png": "[encoded data removed]",
      "text/plain": [
       "<Figure size 432x288 with 2 Axes>"
      ]
     },
     "metadata": {
      "needs_background": "light"
     },
     "output_type": "display_data"
    }
   ],
   "source": [
    "conf_matrix5 = pd.crosstab(y_test, pred10, rownames=['Actual'], colnames=['Predicted'])\n",
    "sns.heatmap(conf_matrix5, annot=True)"
   ]
  },
  {
   "cell_type": "code",
   "execution_count": 200,
   "metadata": {},
   "outputs": [],
   "source": [
    "from sklearn.tree import export_graphviz\n",
    "from sklearn.externals.six import StringIO  \n",
    "from IPython.display import Image  \n",
    "import pydotplus"
   ]
  },
  {
   "cell_type": "code",
   "execution_count": 201,
   "metadata": {},
   "outputs": [
    {
     "data": {
      "image/png": "[encoded data removed]",
      "text/plain": [
       "<IPython.core.display.Image object>"
      ]
     },
     "metadata": {},
     "output_type": "display_data"
    }
   ],
   "source": [
    "# Decision Tree Plot\n",
    "dot_data = StringIO()\n",
    "export_graphviz(clf, out_file=dot_data,  \n",
    "                filled=True, rounded=True,\n",
    "                special_characters=True, class_names=['ham','spam'])\n",
    "graph = pydotplus.graph_from_dot_data(dot_data.getvalue())  \n",
    "graph.write_png('spam.png')\n",
    "display(Image(graph.create_png()))"
   ]
  },
  {
   "cell_type": "markdown",
   "metadata": {},
   "source": [
    "# Random Forest Classification"
   ]
  },
  {
   "cell_type": "code",
   "execution_count": 205,
   "metadata": {},
   "outputs": [],
   "source": [
    "from sklearn.ensemble import RandomForestClassifier"
   ]
  },
  {
   "cell_type": "code",
   "execution_count": 206,
   "metadata": {},
   "outputs": [
    {
     "data": {
      "text/plain": [
       "RandomForestClassifier(bootstrap=True, class_weight=None, criterion='gini',\n",
       "            max_depth=None, max_features='auto', max_leaf_nodes=None,\n",
       "            min_impurity_decrease=0.0, min_impurity_split=None,\n",
       "            min_samples_leaf=1, min_samples_split=2,\n",
       "            min_weight_fraction_leaf=0.0, n_estimators=50, n_jobs=None,\n",
       "            oob_score=False, random_state=1, verbose=0, warm_start=False)"
      ]
     },
     "execution_count": 206,
     "metadata": {},
     "output_type": "execute_result"
    }
   ],
   "source": [
    "rfc = RandomForestClassifier(n_estimators=50, random_state =1)\n",
    "rfc.fit(X_train, y_train)"
   ]
  },
  {
   "cell_type": "code",
   "execution_count": 208,
   "metadata": {},
   "outputs": [
    {
     "name": "stdout",
     "output_type": "stream",
     "text": [
      "              precision    recall  f1-score   support\n",
      "\n",
      "         ham       1.00      1.00      1.00       874\n",
      "        spam       1.00      0.98      0.99       134\n",
      "\n",
      "   micro avg       1.00      1.00      1.00      1008\n",
      "   macro avg       1.00      0.99      0.99      1008\n",
      "weighted avg       1.00      1.00      1.00      1008\n",
      "\n",
      "Confusion Matrix: \n",
      " [[874   0]\n",
      " [  3 131]]\n",
      "\n",
      "Accuracy:  0.9970238095238095\n"
     ]
    }
   ],
   "source": [
    "#Evaluate the model on the training data set\n",
    "pred11 = rfc.predict(X_train)\n",
    "print(classification_report(y_train ,pred11 ))\n",
    "print('Confusion Matrix: \\n',confusion_matrix(y_train,pred11))\n",
    "print()\n",
    "print('Accuracy: ', accuracy_score(y_train,pred11))"
   ]
  },
  {
   "cell_type": "code",
   "execution_count": 220,
   "metadata": {},
   "outputs": [
    {
     "name": "stdout",
     "output_type": "stream",
     "text": [
      "              precision    recall  f1-score   support\n",
      "\n",
      "         ham       0.90      0.99      0.94       389\n",
      "        spam       0.17      0.02      0.04        43\n",
      "\n",
      "   micro avg       0.89      0.89      0.89       432\n",
      "   macro avg       0.53      0.51      0.49       432\n",
      "weighted avg       0.83      0.89      0.85       432\n",
      "\n",
      "Confusion Matrix: \n",
      " [[384   5]\n",
      " [ 42   1]]\n",
      "\n",
      "Accuracy:  0.8912037037037037\n"
     ]
    }
   ],
   "source": [
    "#Evaluate the model on the testing data set\n",
    "pred12 = rfc.predict(X_test)\n",
    "print(classification_report(y_test ,pred12))\n",
    "print('Confusion Matrix: \\n',confusion_matrix(y_test,pred12))\n",
    "print()\n",
    "print('Accuracy: ', accuracy_score(y_test,pred12))"
   ]
  },
  {
   "cell_type": "code",
   "execution_count": 221,
   "metadata": {},
   "outputs": [
    {
     "data": {
      "text/plain": [
       "<AxesSubplot:xlabel='Predicted', ylabel='Actual'>"
      ]
     },
     "execution_count": 221,
     "metadata": {},
     "output_type": "execute_result"
    },
    {
     "data": {
      "image/png": "[encoded data removed]",
      "text/plain": [
       "<Figure size 432x288 with 2 Axes>"
      ]
     },
     "metadata": {
      "needs_background": "light"
     },
     "output_type": "display_data"
    }
   ],
   "source": [
    "conf_matrix6 = pd.crosstab(y_test, pred12, rownames=['Actual'], colnames=['Predicted'])\n",
    "sns.heatmap(conf_matrix6, annot=True)"
   ]
  },
  {
   "cell_type": "markdown",
   "metadata": {},
   "source": [
    "# Random Forest with Adaboost"
   ]
  },
  {
   "cell_type": "code",
   "execution_count": 214,
   "metadata": {},
   "outputs": [],
   "source": [
    "#Create a Random forest object\n",
    "rfc1 = RandomForestClassifier(n_estimators=50, random_state =1)\n",
    "# Create adaboost classifer object\n",
    "abc2= AdaBoostClassifier(n_estimators=50, base_estimator=rfc1,learning_rate=1)\n",
    "\n",
    "# Train Adaboost Classifer\n",
    "model1 = abc2.fit(X_train, y_train)"
   ]
  },
  {
   "cell_type": "code",
   "execution_count": 215,
   "metadata": {},
   "outputs": [
    {
     "name": "stdout",
     "output_type": "stream",
     "text": [
      "              precision    recall  f1-score   support\n",
      "\n",
      "         ham       1.00      1.00      1.00       874\n",
      "        spam       1.00      1.00      1.00       134\n",
      "\n",
      "   micro avg       1.00      1.00      1.00      1008\n",
      "   macro avg       1.00      1.00      1.00      1008\n",
      "weighted avg       1.00      1.00      1.00      1008\n",
      "\n",
      "Confusion Matrix: \n",
      " [[874   0]\n",
      " [  0 134]]\n",
      "\n",
      "Accuracy:  1.0\n"
     ]
    }
   ],
   "source": [
    "#Evaluate the model on the training data set\n",
    "pred12= abc2.predict(X_train)\n",
    "pred12 = model1.predict(X_train)\n",
    "print(classification_report(y_train ,pred12 ))\n",
    "print('Confusion Matrix: \\n',confusion_matrix(y_train,pred12))\n",
    "print()\n",
    "print('Accuracy: ', accuracy_score(y_train,pred12))"
   ]
  },
  {
   "cell_type": "code",
   "execution_count": 217,
   "metadata": {},
   "outputs": [
    {
     "name": "stdout",
     "output_type": "stream",
     "text": [
      "              precision    recall  f1-score   support\n",
      "\n",
      "         ham       0.91      0.98      0.94       389\n",
      "        spam       0.33      0.07      0.12        43\n",
      "\n",
      "   micro avg       0.89      0.89      0.89       432\n",
      "   macro avg       0.62      0.53      0.53       432\n",
      "weighted avg       0.85      0.89      0.86       432\n",
      "\n",
      "Confusion Matrix: \n",
      " [[383   6]\n",
      " [ 40   3]]\n",
      "\n",
      "Accuracy:  0.8935185185185185\n"
     ]
    }
   ],
   "source": [
    "pred13= abc2.predict(X_test)\n",
    "pred13 = model1.predict(X_test)\n",
    "print(classification_report(y_test ,pred13 ))\n",
    "print('Confusion Matrix: \\n',confusion_matrix(y_test,pred13))\n",
    "print()\n",
    "print('Accuracy: ', accuracy_score(y_test,pred13))"
   ]
  },
  {
   "cell_type": "code",
   "execution_count": 222,
   "metadata": {},
   "outputs": [
    {
     "data": {
      "text/plain": [
       "<AxesSubplot:xlabel='Predicted', ylabel='Actual'>"
      ]
     },
     "execution_count": 222,
     "metadata": {},
     "output_type": "execute_result"
    },
    {
     "data": {
      "image/png": "[encoded data removed]",
      "text/plain": [
       "<Figure size 432x288 with 2 Axes>"
      ]
     },
     "metadata": {
      "needs_background": "light"
     },
     "output_type": "display_data"
    }
   ],
   "source": [
    "conf_matrix7 = pd.crosstab(y_test, pred13, rownames=['Actual'], colnames=['Predicted'])\n",
    "sns.heatmap(conf_matrix7, annot=True)"
   ]
  },
  {
   "cell_type": "markdown",
   "metadata": {},
   "source": [
    "For this classification task the model who produced better accuracy in the testing set was the logistic regression model.\n",
    "Better results could've been produced with a more even dataset. Due to the fact that the dataset was collected from my own inbox\n",
    "the proportion between spam and ham was not good for a classification task."
   ]
  }
 ],
 "metadata": {
  "kernelspec": {
   "display_name": "Python 3",
   "language": "python",
   "name": "python3"
  },
  "language_info": {
   "codemirror_mode": {
    "name": "ipython",
    "version": 3
   },
   "file_extension": ".py",
   "mimetype": "text/x-python",
   "name": "python",
   "nbconvert_exporter": "python",
   "pygments_lexer": "ipython3",
   "version": "3.7.4"
  }
 },
 "nbformat": 4,
 "nbformat_minor": 4
}
